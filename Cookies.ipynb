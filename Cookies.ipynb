{
 "cells": [
  {
   "cell_type": "code",
   "execution_count": 1,
   "metadata": {},
   "outputs": [],
   "source": [
    "from selenium import webdriver\n",
    "from selenium.webdriver.common.keys import Keys\n",
    "from selenium.webdriver.common.by import By\n",
    "from selenium.webdriver.support.ui import WebDriverWait\n",
    "from selenium.webdriver.support import expected_conditions as EC\n",
    "import time"
   ]
  },
  {
   "cell_type": "code",
   "execution_count": 2,
   "metadata": {},
   "outputs": [],
   "source": [
    "path = \"/home/void/Selenium/chromedriver\"\n",
    "driver = webdriver.Chrome(path)\n",
    "driver.maximize_window()\n",
    "driver.get(\"https://www.amazon.com/\")\n",
    "time.sleep(3)"
   ]
  },
  {
   "cell_type": "markdown",
   "metadata": {},
   "source": [
    "## Capture all the Cookies"
   ]
  },
  {
   "cell_type": "code",
   "execution_count": 3,
   "metadata": {},
   "outputs": [
    {
     "name": "stdout",
     "output_type": "stream",
     "text": [
      "[{'domain': 'www.amazon.com', 'expiry': 1636032291, 'httpOnly': False, 'name': 'csm-hit', 'path': '/', 'secure': False, 'value': 'tb:E5Y0AQ8YJZ4PR4EJ3V5R+s-E5Y0AQ8YJZ4PR4EJ3V5R|1605792291953&t:1605792291953&adb:adblk_no'}, {'domain': '.amazon.com', 'expiry': 1637328278, 'httpOnly': False, 'name': 'session-token', 'path': '/', 'secure': True, 'value': 'LkeAcGer1KwRcl2Tr7r65UHRQZ9phJre/jJNi+GPeV8kkoFw9iuyyoc4xlYbp9m7kSIdMP0nCDPVIO72qtbKqrcFXv4OuIHZMZ7S5WnR1m+Q2pkjv3r7dz90R8bhw/mmlhXqZApUh/2Yfk1oHiFJnCtaFS5QtNHyXlbITKsl69L4Fq0OO+PAdfb0irpdBLc5qywMlXV4xeW14vkshy95s+p2J5J/NlkDe7t6CZW6HPzEhOQtJaTpPjQq6943agwY'}, {'domain': '.amazon.com', 'expiry': 2236512292, 'httpOnly': False, 'name': 'ubid-main', 'path': '/', 'secure': False, 'value': '131-7842757-3662037'}, {'domain': '.amazon.com', 'expiry': 1637328276, 'httpOnly': False, 'name': 'i18n-prefs', 'path': '/', 'secure': False, 'value': 'USD'}, {'domain': '.amazon.com', 'expiry': 1637328276, 'httpOnly': True, 'name': 'sp-cdn', 'path': '/', 'secure': True, 'value': '\"L5Z9:MM\"'}, {'domain': '.amazon.com', 'expiry': 2236512292, 'httpOnly': False, 'name': 'session-id', 'path': '/', 'secure': False, 'value': '143-9740922-5408310'}, {'domain': '.amazon.com', 'expiry': 2236512292, 'httpOnly': False, 'name': 'session-id-time', 'path': '/', 'secure': False, 'value': '2082787201l'}, {'domain': '.amazon.com', 'httpOnly': False, 'name': 'skin', 'path': '/', 'secure': False, 'value': 'noskin'}] 8\n"
     ]
    }
   ],
   "source": [
    "cookies = driver.get_cookies()\n",
    "print(cookies, len(cookies))"
   ]
  },
  {
   "cell_type": "markdown",
   "metadata": {},
   "source": [
    "## Add Cookie"
   ]
  },
  {
   "cell_type": "code",
   "execution_count": 6,
   "metadata": {},
   "outputs": [
    {
     "name": "stdout",
     "output_type": "stream",
     "text": [
      "9 [{'domain': 'www.amazon.com', 'httpOnly': False, 'name': 'Udemy', 'path': '/', 'secure': True, 'value': 'tyuk5'}, {'domain': 'www.amazon.com', 'expiry': 1636032291, 'httpOnly': False, 'name': 'csm-hit', 'path': '/', 'secure': False, 'value': 'tb:E5Y0AQ8YJZ4PR4EJ3V5R+s-E5Y0AQ8YJZ4PR4EJ3V5R|1605792291953&t:1605792291953&adb:adblk_no'}, {'domain': '.amazon.com', 'expiry': 1637328278, 'httpOnly': False, 'name': 'session-token', 'path': '/', 'secure': True, 'value': 'LkeAcGer1KwRcl2Tr7r65UHRQZ9phJre/jJNi+GPeV8kkoFw9iuyyoc4xlYbp9m7kSIdMP0nCDPVIO72qtbKqrcFXv4OuIHZMZ7S5WnR1m+Q2pkjv3r7dz90R8bhw/mmlhXqZApUh/2Yfk1oHiFJnCtaFS5QtNHyXlbITKsl69L4Fq0OO+PAdfb0irpdBLc5qywMlXV4xeW14vkshy95s+p2J5J/NlkDe7t6CZW6HPzEhOQtJaTpPjQq6943agwY'}, {'domain': '.amazon.com', 'expiry': 2236512292, 'httpOnly': False, 'name': 'ubid-main', 'path': '/', 'secure': False, 'value': '131-7842757-3662037'}, {'domain': '.amazon.com', 'expiry': 1637328276, 'httpOnly': False, 'name': 'i18n-prefs', 'path': '/', 'secure': False, 'value': 'USD'}, {'domain': '.amazon.com', 'expiry': 1637328276, 'httpOnly': True, 'name': 'sp-cdn', 'path': '/', 'secure': True, 'value': '\"L5Z9:MM\"'}, {'domain': '.amazon.com', 'expiry': 2236512292, 'httpOnly': False, 'name': 'session-id', 'path': '/', 'secure': False, 'value': '143-9740922-5408310'}, {'domain': '.amazon.com', 'expiry': 2236512292, 'httpOnly': False, 'name': 'session-id-time', 'path': '/', 'secure': False, 'value': '2082787201l'}, {'domain': '.amazon.com', 'httpOnly': False, 'name': 'skin', 'path': '/', 'secure': False, 'value': 'noskin'}]\n"
     ]
    }
   ],
   "source": [
    "my_new_cookies = {\"name\":\"Udemy\" , \"value\": \"tyuk5\"}\n",
    "driver.add_cookie(my_new_cookies)\n",
    "cookies = driver.get_cookies()\n",
    "print(len(cookies), cookies)"
   ]
  },
  {
   "cell_type": "markdown",
   "metadata": {},
   "source": [
    "## Delete Cookies"
   ]
  },
  {
   "cell_type": "code",
   "execution_count": 7,
   "metadata": {},
   "outputs": [
    {
     "name": "stdout",
     "output_type": "stream",
     "text": [
      "[{'domain': '.amazon.com', 'expiry': 1637329049, 'httpOnly': False, 'name': 'ubid-main', 'path': '/', 'secure': True, 'value': '131-4054168-6417468'}, {'domain': 'www.amazon.com', 'expiry': 1636033045, 'httpOnly': False, 'name': 'csm-hit', 'path': '/', 'secure': False, 'value': 'tb:s-CZ7JSZANM7YQZ0YFG6JH|1605793045329&t:1605793045627&adb:adblk_no'}, {'domain': '.amazon.com', 'httpOnly': False, 'name': 'skin', 'path': '/', 'secure': False, 'value': 'noskin'}, {'domain': '.amazon.com', 'expiry': 1637329044, 'httpOnly': True, 'name': 'sp-cdn', 'path': '/', 'secure': True, 'value': '\"L5Z9:MM\"'}, {'domain': '.amazon.com', 'expiry': 1637329049, 'httpOnly': False, 'name': 'session-id-time', 'path': '/', 'secure': False, 'value': '2082787201l'}, {'domain': '.amazon.com', 'expiry': 1637329044, 'httpOnly': False, 'name': 'i18n-prefs', 'path': '/', 'secure': False, 'value': 'USD'}, {'domain': '.amazon.com', 'expiry': 1637329049, 'httpOnly': False, 'name': 'session-token', 'path': '/', 'secure': True, 'value': '4D9juifPW6PBU185Vyi7vTiP/wouiTNk9VYz7LO2fH8RAlcFljvgRh0XMVa3TDoBUqtcTFIwJ+rW61Eoy1KcLkJW2dIqPi/QAfZpcMOb3xWs3Vgh1oduggkTkdewHxX43sHluWKV6nDtzsuNFjSzICM1obCpO4UGIkIzRERQ/cfXP5f8DPwK2XP9yA948279c3SuOrcdF9GovZvhAkUhiLgxtFkn2JX/azxnHRz1Muk2EiOk7ngMqBBJerI9534A'}, {'domain': '.amazon.com', 'expiry': 1637329049, 'httpOnly': False, 'name': 'session-id', 'path': '/', 'secure': True, 'value': '143-9358285-4130340'}] 8\n",
      "9 [{'domain': 'www.amazon.com', 'httpOnly': False, 'name': 'Udemy', 'path': '/', 'secure': True, 'value': 'tyuk5'}, {'domain': '.amazon.com', 'expiry': 1637329049, 'httpOnly': False, 'name': 'ubid-main', 'path': '/', 'secure': True, 'value': '131-4054168-6417468'}, {'domain': 'www.amazon.com', 'expiry': 1636033045, 'httpOnly': False, 'name': 'csm-hit', 'path': '/', 'secure': False, 'value': 'tb:s-CZ7JSZANM7YQZ0YFG6JH|1605793045329&t:1605793045627&adb:adblk_no'}, {'domain': '.amazon.com', 'httpOnly': False, 'name': 'skin', 'path': '/', 'secure': False, 'value': 'noskin'}, {'domain': '.amazon.com', 'expiry': 1637329044, 'httpOnly': True, 'name': 'sp-cdn', 'path': '/', 'secure': True, 'value': '\"L5Z9:MM\"'}, {'domain': '.amazon.com', 'expiry': 1637329049, 'httpOnly': False, 'name': 'session-id-time', 'path': '/', 'secure': False, 'value': '2082787201l'}, {'domain': '.amazon.com', 'expiry': 1637329044, 'httpOnly': False, 'name': 'i18n-prefs', 'path': '/', 'secure': False, 'value': 'USD'}, {'domain': '.amazon.com', 'expiry': 1637329049, 'httpOnly': False, 'name': 'session-token', 'path': '/', 'secure': True, 'value': '4D9juifPW6PBU185Vyi7vTiP/wouiTNk9VYz7LO2fH8RAlcFljvgRh0XMVa3TDoBUqtcTFIwJ+rW61Eoy1KcLkJW2dIqPi/QAfZpcMOb3xWs3Vgh1oduggkTkdewHxX43sHluWKV6nDtzsuNFjSzICM1obCpO4UGIkIzRERQ/cfXP5f8DPwK2XP9yA948279c3SuOrcdF9GovZvhAkUhiLgxtFkn2JX/azxnHRz1Muk2EiOk7ngMqBBJerI9534A'}, {'domain': '.amazon.com', 'expiry': 1637329049, 'httpOnly': False, 'name': 'session-id', 'path': '/', 'secure': True, 'value': '143-9358285-4130340'}]\n"
     ]
    }
   ],
   "source": [
    "path = \"/home/void/Selenium/chromedriver\"\n",
    "driver = webdriver.Chrome(path)\n",
    "driver.maximize_window()\n",
    "driver.get(\"https://www.amazon.com/\")\n",
    "time.sleep(3)\n",
    "\n",
    "cookies = driver.get_cookies()\n",
    "print(cookies, len(cookies))\n",
    "\n",
    "my_new_cookies = {\"name\":\"Udemy\" , \"value\": \"tyuk5\"}\n",
    "driver.add_cookie(my_new_cookies)\n",
    "cookies = driver.get_cookies()\n",
    "print(len(cookies), cookies)\n"
   ]
  },
  {
   "cell_type": "code",
   "execution_count": 10,
   "metadata": {},
   "outputs": [
    {
     "name": "stdout",
     "output_type": "stream",
     "text": [
      "8\n"
     ]
    }
   ],
   "source": [
    "driver.delete_cookie(\"Udemy\")\n",
    "cookies = driver.get_cookies()\n",
    "print(len(cookies))"
   ]
  },
  {
   "cell_type": "code",
   "execution_count": 11,
   "metadata": {},
   "outputs": [
    {
     "name": "stdout",
     "output_type": "stream",
     "text": [
      "0\n"
     ]
    }
   ],
   "source": [
    "driver.delete_all_cookies()\n",
    "cookies = driver.get_cookies()\n",
    "print(len(cookies))"
   ]
  },
  {
   "cell_type": "markdown",
   "metadata": {},
   "source": [
    "## Taking Screenshot"
   ]
  },
  {
   "cell_type": "code",
   "execution_count": 12,
   "metadata": {},
   "outputs": [],
   "source": [
    "path = \"/home/void/Selenium/chromedriver\"\n",
    "driver = webdriver.Chrome(path)\n",
    "driver.maximize_window()\n",
    "driver.get(\"https://www.edx.org/\")\n",
    "time.sleep(3)"
   ]
  },
  {
   "cell_type": "code",
   "execution_count": 15,
   "metadata": {},
   "outputs": [
    {
     "data": {
      "text/plain": [
       "True"
      ]
     },
     "execution_count": 15,
     "metadata": {},
     "output_type": "execute_result"
    }
   ],
   "source": [
    "driver.save_screenshot(\"/home/void/Selenium/Screenshot_test.png\")"
   ]
  },
  {
   "cell_type": "code",
   "execution_count": 16,
   "metadata": {},
   "outputs": [],
   "source": [
    "path = \"/home/void/Selenium/chromedriver\"\n",
    "driver = webdriver.Chrome(path)\n",
    "driver.maximize_window()\n",
    "driver.get(\"https://courses.edx.org/register\")\n",
    "time.sleep(3)"
   ]
  },
  {
   "cell_type": "code",
   "execution_count": 19,
   "metadata": {},
   "outputs": [
    {
     "data": {
      "text/plain": [
       "True"
      ]
     },
     "execution_count": 19,
     "metadata": {},
     "output_type": "execute_result"
    }
   ],
   "source": [
    "driver.get_screenshot_as_file(\"/home/void/Selenium/Screenshot_test1.png\")"
   ]
  }
 ],
 "metadata": {
  "kernelspec": {
   "display_name": "Python 3",
   "language": "python",
   "name": "python3"
  },
  "language_info": {
   "codemirror_mode": {
    "name": "ipython",
    "version": 3
   },
   "file_extension": ".py",
   "mimetype": "text/x-python",
   "name": "python",
   "nbconvert_exporter": "python",
   "pygments_lexer": "ipython3",
   "version": "3.8.5"
  }
 },
 "nbformat": 4,
 "nbformat_minor": 4
}
