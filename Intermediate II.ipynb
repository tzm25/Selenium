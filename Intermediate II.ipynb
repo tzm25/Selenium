{
 "cells": [
  {
   "cell_type": "markdown",
   "metadata": {},
   "source": [
    "## Frame "
   ]
  },
  {
   "cell_type": "code",
   "execution_count": 15,
   "metadata": {},
   "outputs": [],
   "source": [
    "from selenium import webdriver\n",
    "from selenium.webdriver.common.keys import Keys\n",
    "from selenium.webdriver.common.by import By\n",
    "from selenium.webdriver.support.ui import WebDriverWait\n",
    "from selenium.webdriver.support import expected_conditions as EC\n",
    "import time\n",
    "from selenium.webdriver.support.ui import Select\n"
   ]
  },
  {
   "cell_type": "code",
   "execution_count": 16,
   "metadata": {},
   "outputs": [],
   "source": [
    "path = \"/home/void/Selenium/chromedriver\"\n",
    "driver = webdriver.Chrome(path)\n",
    "driver.maximize_window()\n",
    "driver.get(\"https://www.selenium.dev/selenium/docs/api/java/index.html?overview-summary.html\")\n",
    "time.sleep(5)\n"
   ]
  },
  {
   "cell_type": "code",
   "execution_count": 17,
   "metadata": {},
   "outputs": [
    {
     "name": "stderr",
     "output_type": "stream",
     "text": [
      "<ipython-input-17-883d78527ff8>:6: DeprecationWarning: use driver.switch_to.default_content instead\n",
      "  driver.switch_to_default_content()\n",
      "<ipython-input-17-883d78527ff8>:10: DeprecationWarning: use driver.switch_to.default_content instead\n",
      "  driver.switch_to_default_content()\n"
     ]
    }
   ],
   "source": [
    "driver.implicitly_wait(5)\n",
    "\n",
    "driver.switch_to.frame(\"packageListFrame\")\n",
    "driver.find_element_by_link_text(\"org.openqa.selenium\").click()\n",
    "\n",
    "driver.switch_to_default_content()\n",
    "driver.switch_to.frame(\"packageFrame\")\n",
    "driver.find_element_by_link_text(\"Alert\").click()\n",
    "\n",
    "driver.switch_to_default_content()\n",
    "driver.switch_to.frame(\"classFrame\")\n",
    "driver.find_element_by_xpath(\"/html/body/header/nav/div[1]/div[1]/ul/li[6]/a\").click()\n"
   ]
  },
  {
   "cell_type": "markdown",
   "metadata": {},
   "source": [
    "## Browser Windows"
   ]
  },
  {
   "cell_type": "code",
   "execution_count": 24,
   "metadata": {},
   "outputs": [
    {
     "name": "stdout",
     "output_type": "stream",
     "text": [
      "CDwindow-52EEF2791247B0D9CCBA6F6486B3DEDC\n",
      "https://www.udemy.com/ Online Courses - Learn Anything, On Your Schedule | Udemy \n",
      "\n",
      "\n",
      "https://business.udemy.com/request-demo/?mx_pg=home-page&ref=ufb_header&locale=en_US Request a free demo | Udemy for Business \n",
      "\n",
      "\n"
     ]
    }
   ],
   "source": [
    "path = \"/home/void/Selenium/chromedriver\"\n",
    "driver = webdriver.Chrome(path)\n",
    "driver.maximize_window()\n",
    "driver.get(\"https://www.udemy.com/\")\n",
    "time.sleep(5)\n",
    "driver.find_element_by_link_text(\"Udemy for Business\").click()\n",
    "time.sleep(5)\n",
    "print(driver.current_window_handle)\n",
    "\n",
    "tabs = driver.window_handles\n",
    "\n",
    "for tab in tabs:\n",
    "    driver.switch_to.window(tab)\n",
    "    print(driver.current_url, driver.title,\"\\n\\n\")\n"
   ]
  }
 ],
 "metadata": {
  "kernelspec": {
   "display_name": "Python 3",
   "language": "python",
   "name": "python3"
  },
  "language_info": {
   "codemirror_mode": {
    "name": "ipython",
    "version": 3
   },
   "file_extension": ".py",
   "mimetype": "text/x-python",
   "name": "python",
   "nbconvert_exporter": "python",
   "pygments_lexer": "ipython3",
   "version": "3.8.6"
  }
 },
 "nbformat": 4,
 "nbformat_minor": 4
}
