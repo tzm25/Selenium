{
 "cells": [
  {
   "cell_type": "markdown",
   "metadata": {},
   "source": [
    "## Mouse actions"
   ]
  },
  {
   "cell_type": "code",
   "execution_count": 19,
   "metadata": {},
   "outputs": [],
   "source": [
    "from selenium import webdriver\n",
    "from selenium.webdriver.common.keys import Keys\n",
    "from selenium.webdriver.common.by import By\n",
    "from selenium.webdriver.support.ui import WebDriverWait\n",
    "from selenium.webdriver.support import expected_conditions as EC\n",
    "import time\n",
    "from selenium.webdriver.support.ui import Select\n",
    "from selenium.webdriver import ActionChains\n"
   ]
  },
  {
   "cell_type": "code",
   "execution_count": 16,
   "metadata": {},
   "outputs": [],
   "source": [
    "path = \"/home/void/Selenium/chromedriver\"\n",
    "driver = webdriver.Chrome(path)\n",
    "driver.maximize_window()\n",
    "driver.get(\"https://geek-university.com/\")\n",
    "time.sleep(3)"
   ]
  },
  {
   "cell_type": "code",
   "execution_count": 17,
   "metadata": {},
   "outputs": [],
   "source": [
    "more = driver.find_element_by_xpath('//*[@id=\"main-menu-item-2144\"]/a')\n",
    "linux = driver.find_element_by_xpath('//*[@id=\"main-menu-item-7559\"]/a')\n",
    "actions = ActionChains(driver)\n",
    "\n",
    "actions.move_to_element(more).move_to_element(linux).click().perform()"
   ]
  },
  {
   "cell_type": "markdown",
   "metadata": {},
   "source": [
    "## Mouse Double Click"
   ]
  },
  {
   "cell_type": "code",
   "execution_count": 18,
   "metadata": {},
   "outputs": [],
   "source": [
    "path = \"/home/void/Selenium/chromedriver\"\n",
    "driver = webdriver.Chrome(path)\n",
    "driver.maximize_window()\n",
    "driver.get(\"http://demo.guru99.com/test/simple_context_menu.html\")\n",
    "time.sleep(3)\n",
    "\n",
    "double_click_button = driver.find_element_by_xpath('//*[@id=\"authentication\"]/button')\n",
    "actions = ActionChains(driver)\n",
    "\n",
    "actions.double_click(double_click_button).perform()\n",
    "time.sleep(5)\n"
   ]
  },
  {
   "cell_type": "markdown",
   "metadata": {},
   "source": [
    "## Mouse Right Click"
   ]
  },
  {
   "cell_type": "code",
   "execution_count": 21,
   "metadata": {},
   "outputs": [],
   "source": [
    "path = \"/home/void/Selenium/chromedriver\"\n",
    "driver = webdriver.Chrome(path)\n",
    "driver.maximize_window()\n",
    "driver.get(\"http://demo.guru99.com/test/simple_context_menu.html\")\n",
    "time.sleep(3)"
   ]
  },
  {
   "cell_type": "code",
   "execution_count": 22,
   "metadata": {},
   "outputs": [],
   "source": [
    "right_click_ = driver.find_element_by_xpath('//*[@id=\"authentication\"]/span')\n",
    "actions = ActionChains(driver)\n",
    "\n",
    "actions.context_click(right_click_).perform()\n",
    "\n",
    "time.sleep(5)\n",
    "\n",
    "driver.find_element_by_xpath('//*[@id=\"authentication\"]/ul/li[3]').click()"
   ]
  },
  {
   "cell_type": "markdown",
   "metadata": {},
   "source": [
    "## Drag and Draw"
   ]
  },
  {
   "cell_type": "code",
   "execution_count": 28,
   "metadata": {},
   "outputs": [],
   "source": [
    "path = \"/home/void/Selenium/chromedriver\"\n",
    "driver = webdriver.Chrome(path)\n",
    "driver.maximize_window()\n",
    "driver.get(\"https://demos.telerik.com/kendo-ui/dragdrop/index\")\n",
    "time.sleep(3)"
   ]
  },
  {
   "cell_type": "code",
   "execution_count": 29,
   "metadata": {},
   "outputs": [],
   "source": [
    "source_element = driver.find_element_by_xpath('//*[@id=\"draggable\"]')\n",
    "target_element = driver.find_element_by_xpath('//*[@id=\"droptarget\"]')\n",
    "\n",
    "actions = ActionChains(driver)\n",
    "\n",
    "actions.drag_and_drop(source_element, target_element).perform()"
   ]
  }
 ],
 "metadata": {
  "kernelspec": {
   "display_name": "Python 3",
   "language": "python",
   "name": "python3"
  },
  "language_info": {
   "codemirror_mode": {
    "name": "ipython",
    "version": 3
   },
   "file_extension": ".py",
   "mimetype": "text/x-python",
   "name": "python",
   "nbconvert_exporter": "python",
   "pygments_lexer": "ipython3",
   "version": "3.8.5"
  }
 },
 "nbformat": 4,
 "nbformat_minor": 4
}
