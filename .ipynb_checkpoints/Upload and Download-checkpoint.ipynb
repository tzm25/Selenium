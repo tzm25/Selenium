{
 "cells": [
  {
   "cell_type": "code",
   "execution_count": 15,
   "metadata": {},
   "outputs": [],
   "source": [
    "from selenium import webdriver\n",
    "from selenium.webdriver.common.keys import Keys\n",
    "from selenium.webdriver.common.by import By\n",
    "from selenium.webdriver.support.ui import WebDriverWait\n",
    "from selenium.webdriver.support import expected_conditions as EC\n",
    "import time\n",
    "from selenium.webdriver.support.ui import Select\n",
    "from selenium.webdriver.chrome.options import Options"
   ]
  },
  {
   "cell_type": "markdown",
   "metadata": {},
   "source": [
    "## Upload "
   ]
  },
  {
   "cell_type": "code",
   "execution_count": 6,
   "metadata": {},
   "outputs": [],
   "source": [
    "path = \"/home/void/Selenium/chromedriver\"\n",
    "driver = webdriver.Chrome(path)\n",
    "driver.maximize_window()\n",
    "driver.get(\"https://tus.io/demo.html\")\n",
    "time.sleep(3)"
   ]
  },
  {
   "cell_type": "code",
   "execution_count": 7,
   "metadata": {},
   "outputs": [],
   "source": [
    "choose_file = driver.find_element_by_xpath('//*[@id=\"js-file-input\"]')\n",
    "choose_file.send_keys(\"/home/void/Pictures/7c90780adfb44a746add72201d5d4d8b5d00.jpg\")\n",
    "\n",
    "time.sleep(7)\n",
    "\n",
    "full_sized_image = driver.find_element_by_xpath('//*[@id=\"js-upload-container\"]/a[1]')\n",
    "full_sized_image.click()"
   ]
  },
  {
   "cell_type": "markdown",
   "metadata": {},
   "source": [
    "## Download in Default Path "
   ]
  },
  {
   "cell_type": "code",
   "execution_count": 13,
   "metadata": {},
   "outputs": [],
   "source": [
    "path = \"/home/void/Selenium/chromedriver\"\n",
    "driver = webdriver.Chrome(path)\n",
    "driver.maximize_window()\n",
    "driver.get(\"http://www.qualstat.com/download-demo/\")\n",
    "time.sleep(5)"
   ]
  },
  {
   "cell_type": "code",
   "execution_count": 14,
   "metadata": {},
   "outputs": [],
   "source": [
    "download_ = driver.find_element_by_xpath('//*[@id=\"content\"]/div/div/p[3]/a')\n",
    "download_.click()"
   ]
  },
  {
   "cell_type": "markdown",
   "metadata": {},
   "source": [
    "## Download in Specific Path"
   ]
  },
  {
   "cell_type": "code",
   "execution_count": 21,
   "metadata": {},
   "outputs": [
    {
     "name": "stderr",
     "output_type": "stream",
     "text": [
      "<ipython-input-21-6f1dfe34687f>:7: DeprecationWarning: use options instead of chrome_options\n",
      "  driver = webdriver.Chrome(executable_path=path,chrome_options=chrome_options_)\n"
     ]
    }
   ],
   "source": [
    "chrome_options_ = Options()\n",
    "chrome_options_.add_experimental_option(\"prefs\",{\"download.default_directory\":\"/home/void/Documents\"})\n",
    "\n",
    "\n",
    "\n",
    "path = \"/home/void/Selenium/chromedriver\"\n",
    "driver = webdriver.Chrome(executable_path=path,chrome_options=chrome_options_)\n",
    "\n",
    "driver.get(\"http://www.qualstat.com/download-demo/\")\n",
    "time.sleep(3)\n",
    "driver.maximize_window()\n",
    "time.sleep(5)\n",
    "\n",
    "download_ = driver.find_element_by_xpath('//*[@id=\"content\"]/div/div/p[3]/a')\n",
    "download_.click()"
   ]
  }
 ],
 "metadata": {
  "kernelspec": {
   "display_name": "Python 3",
   "language": "python",
   "name": "python3"
  },
  "language_info": {
   "codemirror_mode": {
    "name": "ipython",
    "version": 3
   },
   "file_extension": ".py",
   "mimetype": "text/x-python",
   "name": "python",
   "nbconvert_exporter": "python",
   "pygments_lexer": "ipython3",
   "version": "3.8.5"
  }
 },
 "nbformat": 4,
 "nbformat_minor": 4
}
