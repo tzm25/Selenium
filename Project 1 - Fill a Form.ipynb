{
 "cells": [
  {
   "cell_type": "code",
   "execution_count": 10,
   "metadata": {},
   "outputs": [],
   "source": [
    "from selenium import webdriver\n",
    "from selenium.webdriver.common.keys import Keys\n",
    "from selenium.webdriver.common.by import By\n",
    "from selenium.webdriver.support.ui import WebDriverWait\n",
    "from selenium.webdriver.support import expected_conditions as EC\n",
    "import time\n"
   ]
  },
  {
   "cell_type": "code",
   "execution_count": 13,
   "metadata": {},
   "outputs": [],
   "source": [
    "path = \"/home/void/Selenium-Course/chromedriver\"\n",
    "driver = webdriver.Chrome(path)\n",
    "driver.maximize_window()\n",
    "driver.get(\"https://rifinder.com/\")"
   ]
  },
  {
   "cell_type": "code",
   "execution_count": 14,
   "metadata": {},
   "outputs": [
    {
     "name": "stdout",
     "output_type": "stream",
     "text": [
      "4\n"
     ]
    }
   ],
   "source": [
    "driver.implicitly_wait(3)\n",
    "\n",
    "register = driver.find_element_by_link_text(\"Dashboard\")\n",
    "register.click()\n",
    "\n",
    "create = driver.find_element_by_xpath('//a[@href=\"https://courses.rifinder.com/student-registration/?redirect_to=https://courses.rifinder.com/dashboard/\"]')\n",
    "create.click()\n",
    "\n",
    "input_tag = driver.find_elements_by_class_name(\"tutor-form-row\")\n",
    "print(len(input_tag))\n",
    "\n",
    "first_name = driver.find_element_by_name(\"first_name\").send_keys(\"Thant Zin\")\n",
    "user_name = driver.find_element_by_name(\"user_login\").send_keys(\"TZM\")\n",
    "last_name = driver.find_element_by_name(\"last_name\").send_keys(\"Moe\")\n",
    "email_id = driver.find_element_by_name(\"email\").send_keys(\"thantzinmoefeb13@gmail.com\")\n",
    "pw_ = driver.find_element_by_name(\"password\").send_keys(\"#Tzm251398\")\n",
    "pw_confirm = driver.find_element_by_name(\"password_confirmation\").send_keys(\"#Tzm251398\")\n",
    "\n",
    "click_register= driver.find_element_by_name(\"tutor_register_student_btn\")\n",
    "click_register.click()\n"
   ]
  }
 ],
 "metadata": {
  "kernelspec": {
   "display_name": "Python 3",
   "language": "python",
   "name": "python3"
  },
  "language_info": {
   "codemirror_mode": {
    "name": "ipython",
    "version": 3
   },
   "file_extension": ".py",
   "mimetype": "text/x-python",
   "name": "python",
   "nbconvert_exporter": "python",
   "pygments_lexer": "ipython3",
   "version": "3.8.6"
  }
 },
 "nbformat": 4,
 "nbformat_minor": 4
}
