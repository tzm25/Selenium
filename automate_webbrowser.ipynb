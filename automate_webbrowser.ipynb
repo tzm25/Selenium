{
 "cells": [
  {
   "cell_type": "code",
   "execution_count": 1,
   "metadata": {},
   "outputs": [],
   "source": [
    "from selenium import webdriver\n",
    "from selenium.webdriver.common.keys import Keys\n",
    "from selenium.webdriver.common.by import By\n",
    "from selenium.webdriver.support.ui import WebDriverWait\n",
    "from selenium.webdriver.support import expected_conditions as EC\n",
    "import time\n",
    "\n"
   ]
  },
  {
   "cell_type": "markdown",
   "metadata": {},
   "source": [
    "# Open Browser"
   ]
  },
  {
   "cell_type": "code",
   "execution_count": 2,
   "metadata": {},
   "outputs": [],
   "source": [
    "path = \"/home/void/Selenium-Course/chromedriver\"\n",
    "driver = webdriver.Chrome(path)\n",
    "driver.get(\"https://www.selenium.dev/\")"
   ]
  },
  {
   "cell_type": "markdown",
   "metadata": {},
   "source": [
    "# Load Elements using HTML"
   ]
  },
  {
   "cell_type": "code",
   "execution_count": 23,
   "metadata": {},
   "outputs": [
    {
     "name": "stdout",
     "output_type": "stream",
     "text": [
      "<html><head><link rel=\"stylesheet\" href=\"/css/header.css\"><title>Downloads</title><link rel=\"icon\" href=\"/favicon.ico\" type=\"image/png\"><meta name=\"viewport\" content=\"width=device-width,initial-scale=1\"><script async=\"\" src=\"//cse.google.com/adsense/search/async-ads.js\"></script><script src=\"https://www.google.com/cse/static/element/26b8d00a7c7a0812/cse_element__en.js?usqp=CAI%3D\" type=\"text/javascript\"></script><link type=\"text/css\" rel=\"stylesheet\" href=\"https://www.google.com/cse/static/element/26b8d00a7c7a0812/default+en.css\"><link type=\"text/css\" rel=\"stylesheet\" href=\"https://www.google.com/cse/static/style/look/v4/default.css\"><style type=\"text/css\">.gsc-control-cse{font-family:arial, sans-serif}.gsc-control-cse .gsc-table-result{font-family:arial, sans-serif}.gsc-refinementsGradient{background:linear-gradient(to left,rgba(255,255,255,1),rgba(255,255,255,0))}.gsc-control-cse{border-color:#FFFFFF;background-color:#FFFFFF}input.gsc-input,.gsc-input-box,.gsc-input-box-hover,.gsc-input-box-focus{border-color:#59CBE8}.gsc-search-button-v2,.gsc-search-button-v2:hover,.gsc-search-button-v2:focus{border-color:#2F5BB7;background-color:#4D90FE;background-image:none;filter:none}.gsc-search-button-v2 svg{fill:#FFFFFF}.gsc-tabHeader.gsc-tabhActive,.gsc-refinementHeader.gsc-refinementhActive{color:#1A73E8;border-color:#1A73E8;background-color:#FFFFFF}.gsc-tabHeader.gsc-tabhInactive,.gsc-refinementHeader.gsc-refinementhInactive{color:#666666;border-color:#666666;background-color:#FFFFFF}.gsc-webResult.gsc-result,.gsc-results .gsc-imageResult{border-color:#FFFFFF;background-color:#FFFFFF}.gsc-webResult.gsc-result:hover{border-color:#FFFFFF;background-color:#FFFFFF}.gs-webResult.gs-result a.gs-title:link,.gs-webResult.gs-result a.gs-title:link b,.gs-imageResult a.gs-title:link,.gs-imageResult a.gs-title:link b{color:#1155CC}.gs-webResult.gs-result a.gs-title:visited,.gs-webResult.gs-result a.gs-title:visited b,.gs-imageResult a.gs-title:visited,.gs-imageResult a.gs-title:visited b{color:#1155CC}.gs-webResult.gs-result a.gs-title:hover,.gs-webResult.gs-result a.gs-title:hover b,.gs-imageResult a.gs-title:hover,.gs-imageResult a.gs-title:hover b{color:#1155CC}.gs-webResult.gs-result a.gs-title:active,.gs-webResult.gs-result a.gs-title:active b,.gs-imageResult a.gs-title:active,.gs-imageResult a.gs-title:active b{color:#1155CC}.gsc-cursor-page{color:#1155CC}a.gsc-trailing-more-results:link{color:#1155CC}.gs-webResult:not(.gs-no-results-result):not(.gs-error-result) .gs-snippet,.gs-fileFormatType{color:#333333}.gs-webResult div.gs-visibleUrl{color:#009933}.gs-webResult div.gs-visibleUrl-short{color:#009933}.gs-webResult div.gs-visibleUrl-short{display:none}.gs-webResult div.gs-visibleUrl-long{display:block}.gs-promotion div.gs-visibleUrl-short{display:none}.gs-promotion div.gs-visibleUrl-long{display:block}.gsc-cursor-box{border-color:#FFFFFF}.gsc-results .gsc-cursor-box .gsc-cursor-page{border-color:#666666;background-color:#FFFFFF;color:#666666}.gsc-results .gsc-cursor-box .gsc-cursor-current-page{border-color:#1A73E8;background-color:#FFFFFF;color:#1A73E8}.gsc-webResult.gsc-result.gsc-promotion{border-color:#F6F6F6;background-color:#F6F6F6}.gsc-completion-title{color:#1155CC}.gsc-completion-snippet{color:#333333}.gs-promotion a.gs-title:link,.gs-promotion a.gs-title:link *,.gs-promotion .gs-snippet a:link{color:#1155CC}.gs-promotion a.gs-title:visited,.gs-promotion a.gs-title:visited *,.gs-promotion .gs-snippet a:visited{color:#1155CC}.gs-promotion a.gs-title:hover,.gs-promotion a.gs-title:hover *,.gs-promotion .gs-snippet a:hover{color:#1155CC}.gs-promotion a.gs-title:active,.gs-promotion a.gs-title:active *,.gs-promotion .gs-snippet a:active{color:#1155CC}.gs-promotion .gs-snippet,.gs-promotion .gs-title .gs-promotion-title-right,.gs-promotion .gs-title .gs-promotion-title-right *{color:#333333}.gs-promotion .gs-visibleUrl,.gs-promotion .gs-visibleUrl-short{color:#009933}.gcsc-find-more-on-google{color:#1155CC}.gcsc-find-more-on-google-magnifier{fill:#1155CC}</style><style type=\"text/css\">.gscb_a{display:inline-block;font:27px/13px arial,sans-serif}.gsst_a .gscb_a{color:#a1b9ed;cursor:pointer}.gsst_a:hover .gscb_a,.gsst_a:focus .gscb_a{color:#36c}.gsst_a{display:inline-block}.gsst_a{cursor:pointer;padding:0 4px}.gsst_a:hover{text-decoration:none!important}.gsst_b{font-size:16px;padding:0 2px;position:relative;user-select:none;-webkit-user-select:none;white-space:nowrap}.gsst_e{vertical-align:middle;opacity:0.55;}.gsst_a:hover .gsst_e,.gsst_a:focus .gsst_e{opacity:0.72;}.gsst_a:active .gsst_e{opacity:1;}.gsst_f{background:white;text-align:left}.gsst_g{background-color:white;border:1px solid #ccc;border-top-color:#d9d9d9;box-shadow:0 2px 4px rgba(0,0,0,0.2);-webkit-box-shadow:0 2px 4px rgba(0,0,0,0.2);margin:-1px -3px;padding:0 6px}.gsst_h{background-color:white;height:1px;margin-bottom:-1px;position:relative;top:-1px}.gsib_a{width:100%;padding:4px 6px 0}.gsib_a,.gsib_b{vertical-align:top}.gssb_c{border:0;position:absolute;z-index:989}.gssb_e{border:1px solid #ccc;border-top-color:#d9d9d9;box-shadow:0 2px 4px rgba(0,0,0,0.2);-webkit-box-shadow:0 2px 4px rgba(0,0,0,0.2);cursor:default}.gssb_f{visibility:hidden;white-space:nowrap}.gssb_k{border:0;display:block;position:absolute;top:0;z-index:988}.gsdd_a{border:none!important}.gsq_a{padding:0}.gssb_a{padding:0 7px}.gssb_a,.gssb_a td{white-space:nowrap;overflow:hidden;line-height:22px}#gssb_b{font-size:11px;color:#36c;text-decoration:none}#gssb_b:hover{font-size:11px;color:#36c;text-decoration:underline}.gssb_g{text-align:center;padding:8px 0 7px;position:relative}.gssb_h{font-size:15px;height:28px;margin:0.2em;-webkit-appearance:button}.gssb_i{background:#eee}.gss_ifl{visibility:hidden;padding-left:5px}.gssb_i .gss_ifl{visibility:visible}a.gssb_j{font-size:13px;color:#36c;text-decoration:none;line-height:100%}a.gssb_j:hover{text-decoration:underline}.gssb_l{height:1px;background-color:#e5e5e5}.gssb_m{color:#000;background:#fff}.gssb_a{padding:0 9px}.gsib_a{padding:5px 9px 4px 9px}.gscb_a{line-height:27px}.gssb_e{border:0}.gssb_l{margin:5px 0}input.gsc-input::-webkit-input-placeholder{font-size:14px}input.gsc-input:-moz-placeholder{font-size:14px}input.gsc-input::-moz-placeholder{font-size:14px}input.gsc-input:-ms-input-placeholder{font-size:14px}input.gsc-input:focus::-webkit-input-placeholder{color:transparent}input.gsc-input:focus:-moz-placeholder{color:transparent}input.gsc-input:focus::-moz-placeholder{color:transparent}input.gsc-input:focus:-ms-input-placeholder{color:transparent}.gssb_c .gsc-completion-container{position:static}.gssb_c{z-index:5000}.gsc-completion-container table{background:transparent;font-size:inherit;font-family:inherit}.gssb_c > tbody > tr,.gssb_c > tbody > tr > td,.gssb_d,.gssb_d > tbody > tr,.gssb_d > tbody > tr > td,.gssb_e,.gssb_e > tbody > tr,.gssb_e > tbody > tr > td{padding:0;margin:0;border:0}.gssb_a table,.gssb_a table tr,.gssb_a table tr td{padding:0;margin:0;border:0}</style></head><body><header id=\"header\" class=\"header\"><a href=\"https://selenium.dev\" class=\"headerLink\"><img class=\"logo logo-large\" src=\"/images/selenium_logo_large.png\">\n",
      "<img class=\"logo logo-small\" src=\"/images/selenium_logo_square_green.png\">\n",
      "<img class=\"logo logo-small logo-hide\" src=\"/images/selenium_logo_square_white.png\"></a>\n",
      "<a id=\"dropdownButton\" class=\"dropdownButton\" onclick=\"toggleMenu()\">MENU +</a><nav id=\"navbar\" class=\"navbar\"><div class=\"nav-item\" onclick=\"toggleAboutNav()\"><span>About</span><div id=\"aboutArrow\" class=\"arrow-down\"></div></div><ul id=\"aboutSubnav\" class=\"about-subnav\"><div class=\"subnav subnav-item\"><a href=\"/about\">About</a></div><div class=\"subnav subnav-item\"><a href=\"/project\">Governance</a></div><div class=\"subnav subnav-item\"><a href=\"/events\">Events</a></div><div class=\"subnav subnav-item\"><a href=\"/ecosystem\">Ecosystem</a></div><div class=\"subnav subnav-item\"><a href=\"/history\">History</a></div><div class=\"subnav subnav-item\"><a href=\"/getinvolved\">Get Involved</a></div><div class=\"subnav subnav-item\"><a href=\"/sponsors\">Sponsors</a></div></ul><a class=\"nav-item\" href=\"/downloads\">Downloads</a>\n",
      "<a class=\"nav-item\" href=\"/projects\">Projects</a>\n",
      "<a class=\"nav-item\" href=\"/documentation\">Documentation</a>\n",
      "<a class=\"nav-item\" href=\"/support\">Support</a>\n",
      "<a class=\"nav-item\" href=\"/blog\">Blog</a><div class=\"nav-item\"><div class=\"search-bar-container\"><script type=\"text/javascript\" async=\"\" src=\"https://cse.google.com/cse.js?cx=018435082943254453647:ktxsp1-jcb8\"></script><script>(function(){var cx='018435082943254453647:ktxsp1-jcb8';var gcse=document.createElement('script');gcse.type='text/javascript';gcse.async=true;gcse.src='https://cse.google.com/cse.js?cx='+cx;var s=document.getElementsByTagName('script')[0];s.parentNode.insertBefore(gcse,s);})();</script><div id=\"___gcse_0\"><div class=\"gsc-control-searchbox-only gsc-control-searchbox-only-en\" dir=\"ltr\"><form class=\"gsc-search-box gsc-search-box-tools\" accept-charset=\"utf-8\"><table cellspacing=\"0\" cellpadding=\"0\" class=\"gsc-search-box\"><tbody><tr><td class=\"gsc-input\"><div class=\"gsc-input-box\" id=\"gsc-iw-id1\"><table cellspacing=\"0\" cellpadding=\"0\" id=\"gs_id50\" class=\"gstl_50 gsc-input\" style=\"width: 100%; padding: 0px;\"><tbody><tr><td id=\"gs_tti50\" class=\"gsib_a\"><input autocomplete=\"off\" type=\"text\" size=\"10\" class=\"gsc-input\" name=\"search\" title=\"search\" id=\"gsc-i-id1\" dir=\"ltr\" spellcheck=\"false\" style=\"width: 100%; padding: 0px; border: none; margin: 0px; height: auto; outline: none;\"></td><td class=\"gsib_b\"><div class=\"gsst_b\" id=\"gs_st50\" dir=\"ltr\"><a class=\"gsst_a\" href=\"javascript:void(0)\" title=\"Clear search box\" role=\"button\" style=\"display: none;\"><span class=\"gscb_a\" id=\"gs_cb50\" aria-hidden=\"true\">×</span></a></div></td></tr></tbody></table></div></td><td class=\"gsc-search-button\"><button class=\"gsc-search-button gsc-search-button-v2\"><svg width=\"13\" height=\"13\" viewBox=\"0 0 13 13\"><title>search</title><path d=\"m4.8495 7.8226c0.82666 0 1.5262-0.29146 2.0985-0.87438 0.57232-0.58292 0.86378-1.2877 0.87438-2.1144 0.010599-0.82666-0.28086-1.5262-0.87438-2.0985-0.59352-0.57232-1.293-0.86378-2.0985-0.87438-0.8055-0.010599-1.5103 0.28086-2.1144 0.87438-0.60414 0.59352-0.8956 1.293-0.87438 2.0985 0.021197 0.8055 0.31266 1.5103 0.87438 2.1144 0.56172 0.60414 1.2665 0.8956 2.1144 0.87438zm4.4695 0.2115 3.681 3.6819-1.259 1.284-3.6817-3.7 0.0019784-0.69479-0.090043-0.098846c-0.87973 0.76087-1.92 1.1413-3.1207 1.1413-1.3553 0-2.5025-0.46363-3.4417-1.3909s-1.4088-2.0686-1.4088-3.4239c0-1.3553 0.4696-2.4966 1.4088-3.4239 0.9392-0.92727 2.0864-1.3969 3.4417-1.4088 1.3553-0.011889 2.4906 0.45771 3.406 1.4088 0.9154 0.95107 1.379 2.0924 1.3909 3.4239 0 1.2126-0.38043 2.2588-1.1413 3.1385l0.098834 0.090049z\"></path></svg></button></td><td class=\"gsc-clear-button\"><div class=\"gsc-clear-button\" title=\"clear results\">&nbsp;</div></td></tr></tbody></table></form></div></div><img class=\"search-icon\" src=\"/images/search.png\"></div></div></nav></header><script>function activateSearch(){console.log('ACTIVATE')}\n",
      "function toggleMenu(){const navbarItems=document.getElementsByClassName(\"nav-item\");const navbarElements=[...navbarItems];const smallLogos=document.getElementsByClassName(\"logo logo-small\");const logoElements=[...smallLogos];const header=document.getElementById(\"header\");const dropdownButton=document.getElementById(\"dropdownButton\");const subnavs=document.getElementsByClassName(\"about-subnav\");const subnavElements=[...subnavs];const aboutArrow=document.getElementById(\"aboutArrow\");if(dropdownButton.innerText===\"MENU +\"){dropdownButton.innerText=\"MENU -\"}else dropdownButton.innerText=\"MENU +\"\n",
      "navbarElements.forEach(element=>{if(element.className===\"nav-item\"){element.className+=\" dropdown-active\"}else{element.className=\"nav-item\"}})\n",
      "subnavElements.forEach(element=>{element.className=\"about-subnav\";});aboutArrow.className=\"arrow-down\";logoElements.forEach(element=>{if(element.className.includes(\"logo-hide\")){element.className=\"logo logo-small\"}else{element.className+=\" logo-hide\"}})\n",
      "if(header.className===\"header\"){header.className+=\" dropdown-active\"}else{header.className=\"header\"}}\n",
      "function toggleAboutNav(){const aboutSubnav=document.getElementById(\"aboutSubnav\");const aboutArrow=document.getElementById(\"aboutArrow\");if(aboutSubnav.className===\"about-subnav\"){aboutSubnav.className+=\" about-subnav-active\";}else{aboutSubnav.className=\"about-subnav\"}\n",
      "if(aboutArrow.className===\"arrow-up\")aboutArrow.className=\"arrow-down\";else aboutArrow.className=\"arrow-up\";}</script><link rel=\"stylesheet\" href=\"/css/main.css\"><link rel=\"stylesheet\" href=\"/css/downloads.css\"><link href=\"https://fonts.googleapis.com/css?family=Encode+Sans\" rel=\"stylesheet\"><section class=\"hero\"><h1>Downloads</h1><div class=\"header-description\"><p class=\"body-large\">Below is where you can find the latest releases of all the Selenium components. You can also find a\n",
      "list of previous releases, source code, and additional information for Maven users.</p><p onclick=\"showPreviousReleases()\" class=\"releases-button\">Previous Releases</p></div></section><div class=\"split-section container dark-background\"><div class=\"left\"><h2>Selenium Server (Grid)</h2><p>The Selenium Server is needed in order to run Remote Selenium WebDriver (Grid).</p></div><div class=\"right\"><p>Latest stable version <a href=\"https://selenium-release.storage.googleapis.com/3.141/selenium-server-standalone-3.141.59.jar\">3.141.59</a></p><p>To use the Selenium Server in a Grid configuration see the <a href=\"https://selenium.dev/documentation/en/grid/\">documentation</a>.</p><p>Latest Selenium 4 Alpha version\n",
      "<a href=\"https://selenium-release.storage.googleapis.com/4.0-alpha-6/selenium-server-4.0.0-alpha-6.jar\">4.0.0-alpha-6</a></p></div></div><div class=\"split-section container\"><div class=\"left\"><h2>The Internet Explorer Driver Server</h2><p>This is required if you want to make use of the latest and greatest features of the WebDriver InternetExplorerDriver.<br>Please make sure that this is available on your <code>$PATH</code> (or <code>%PATH%</code> on Windows) in order for the IE\n",
      "Driver to work as expected.</p></div><div class=\"right\"><p>Download version 3.150.1 for:<br><a href=\"https://selenium-release.storage.googleapis.com/3.150/IEDriverServer_Win32_3.150.1.zip\">32 bit Windows IE</a> (recommended)\n",
      "<a href=\"https://selenium-release.storage.googleapis.com/3.150/IEDriverServer_x64_3.150.1.zip\">64 bit Windows IE</a>\n",
      "<a href=\"https://raw.githubusercontent.com/SeleniumHQ/selenium/trunk/cpp/iedriverserver/CHANGELOG\">CHANGELOG</a></p></div></div><div class=\"container basic dark-background\"><h2>Selenium Client &amp; WebDriver Language Bindings</h2><p>In order to create scripts that interact with the Selenium Server (Remote WebDriver) or create local Selenium WebDriver scripts,\n",
      "you need to make use of language-specific client drivers.</p><p>While language bindings for <a href=\"/ecosystem\">other languages exist</a>,\n",
      "these are the core ones that are supported by the main project hosted on GitHub.</p><table class=\"data-list\"><thead><tr><th scope=\"col\">Language</th><th scope=\"col\">Stable Version</th><th scope=\"col\">Release Date</th><th scope=\"col\">Alpha Version</th><th scope=\"col\">Alpha Release Date</th><th scope=\"col\">Links</th></tr></thead><tbody><tr><td data-label=\"Language\">Ruby</td><td data-label=\"Stable Version\">3.142.6</td><td data-label=\"Release Date\">October 04, 2019</td><td data-label=\"Alpha Version\">4.0.0alpha6</td><td data-label=\"Alpha Release Date\">May 28, 2020</td><td data-label=\"Links\"><a href=\"http://rubygems.org/gems/selenium-webdriver\" class=\"link\">Download</a>\n",
      "<a href=\"https://rubygems.org/gems/selenium-webdriver/versions/4.0.0.alpha6\" class=\"link\">Alpha Download</a>\n",
      "<a href=\"https://raw.githubusercontent.com/SeleniumHQ/selenium/trunk/rb/CHANGES\" class=\"link\">Changelog</a>\n",
      "<a href=\"https://seleniumhq.github.io/selenium/docs/api/rb/index.html\" class=\"link\">API Docs</a></td></tr><tr><td data-label=\"Language\">Java</td><td data-label=\"Stable Version\">3.141.59</td><td data-label=\"Release Date\">November 14, 2018</td><td data-label=\"Alpha Version\">4.0.0-alpha-6</td><td data-label=\"Alpha Release Date\">May 29, 2020</td><td data-label=\"Links\"><a href=\"https://selenium-release.storage.googleapis.com/3.141/selenium-java-3.141.59.zip\" class=\"link\">Download</a>\n",
      "<a href=\"https://selenium-release.storage.googleapis.com/4.0-alpha-6/selenium-java-4.0.0-alpha-6.zip\" class=\"link\">Alpha Download</a>\n",
      "<a href=\"https://raw.githubusercontent.com/SeleniumHQ/selenium/trunk/java/CHANGELOG\" class=\"link\">Changelog</a>\n",
      "<a href=\"https://seleniumhq.github.io/selenium/docs/api/java/index.html\" class=\"link\">API Docs</a></td></tr><tr><td data-label=\"Language\">Python</td><td data-label=\"Stable Version\">3.141.0</td><td data-label=\"Release Date\">November 01, 2018</td><td data-label=\"Alpha Version\">4.0.0a6.post1</td><td data-label=\"Alpha Release Date\">May 28, 2020</td><td data-label=\"Links\"><a href=\"http://pypi.python.org/pypi/selenium\" class=\"link\">Download</a>\n",
      "<a href=\"https://pypi.org/project/selenium/4.0.0a6.post1/\" class=\"link\">Alpha Download</a>\n",
      "<a href=\"https://raw.githubusercontent.com/SeleniumHQ/selenium/trunk/py/CHANGES\" class=\"link\">Changelog</a>\n",
      "<a href=\"https://seleniumhq.github.io/selenium/docs/api/py/index.html\" class=\"link\">API Docs</a></td></tr><tr><td data-label=\"Language\">C#</td><td data-label=\"Stable Version\">3.14.0</td><td data-label=\"Release Date\">August 02, 2018</td><td data-label=\"Alpha Version\">4.0.0-alpha05</td><td data-label=\"Alpha Release Date\">March 18, 2020</td><td data-label=\"Links\"><a href=\"https://goo.gl/uJJ5Sc\" class=\"link\">Download</a>\n",
      "<a href=\"https://www.nuget.org/api/v2/package/Selenium.WebDriver/4.0.0-alpha05\" class=\"link\">Alpha Download</a>\n",
      "<a href=\"https://raw.githubusercontent.com/SeleniumHQ/selenium/trunk/dotnet/CHANGELOG\" class=\"link\">Changelog</a>\n",
      "<a href=\"https://goo.gl/uutZjZ\" class=\"link\">API Docs</a></td></tr><tr><td data-label=\"Language\">JavaScript</td><td data-label=\"Stable Version\">3.6.0</td><td data-label=\"Release Date\">October 06, 2017</td><td data-label=\"Alpha Version\">4.0.0-alpha.7</td><td data-label=\"Alpha Release Date\">March 05, 2020</td><td data-label=\"Links\"><a href=\"https://npmjs.org/package/selenium-webdriver\" class=\"link\">Download</a>\n",
      "<a href=\"https://www.npmjs.com/package/selenium-webdriver/v/4.0.0-alpha.7\" class=\"link\">Alpha Download</a>\n",
      "<a href=\"https://raw.githubusercontent.com/SeleniumHQ/selenium/trunk/javascript/node/selenium-webdriver/CHANGES.md\" class=\"link\">Changelog</a>\n",
      "<a href=\"https://seleniumhq.github.io/selenium/docs/api/javascript/index.html\" class=\"link\">API Docs</a></td></tr></tbody></table></div><div class=\"container\"><h2>C# NuGet</h2><p>Nuget latest release is 3.14.0. Released on 2018-08-02</p><ul><li><a href=\"http://www.nuget.org/List/Packages/Selenium.WebDriver\">WebDriver</a></li><li><a href=\"http://www.nuget.org/List/Packages/Selenium.WebDriverBackedSelenium\">WebDriverBackedSelenium</a></li><li><a href=\"http://www.nuget.org/List/Packages/Selenium.Support\">Support</a></li><li><a href=\"http://www.nuget.org/List/Packages/Selenium.RC\">RC</a> (Final version 3.1.0 Released 2017-02-16)</li></ul></div><div class=\"container basic dark-background\"><h2>Selenium IDE</h2><p>Selenium IDE is a Chrome and Firefox plugin which records and plays back user interactions with the browser. Use this to either create simple scripts or assist in exploratory testing.</p><p>Download latest released version\n",
      "<a href=\"https://chrome.google.com/webstore/detail/selenium-ide/mooikfkahbdckldjjndioackbalphokd\">for Chrome</a>\n",
      "or for <a href=\"https://addons.mozilla.org/en-US/firefox/addon/selenium-ide/\">Firefox</a>\n",
      "or view the <a href=\"https://github.com/SeleniumHQ/selenium-ide/releases\">Release Notes.</a></p><p>Download previous <a href=\"https://addons.mozilla.org/en-GB/firefox/addon/selenium-ide/versions/\">IDE versions here</a>.</p></div><div class=\"container basic\"><h2>Maven Information</h2><p>If you're using Maven, you will find more information <a href=\"/maven\">here</a>.</p></div><div class=\"container basic dark-background\"><h2>Third Party Drivers, Bindings, and Plugins</h2><p>Selenium can be extended through the use of plugins.<br>Here are a number of plugins created and maintained by third parties.\n",
      "For more information on how to create your own plugin or have it listed,\n",
      "learn more <a href=\"https://selenium.dev/selenium-ide/docs/en/plugins/plugins-getting-started/\">here</a>.</p></div><div class=\"container basic\"><h2>Platforms Supported by Selenium</h2></div><div id=\"browsersExpand\" class=\"toggle-button\" onclick=\"expandBrowsers()\">+ Browsers</div><div id=\"browsersCollapse\" class=\"toggle-button hide\" onclick=\"collapseBrowsers()\">- Browsers</div><div id=\"browsersContent\" class=\"toggled-content dark-background hide\"><h3>Firefox</h3><p>GeckoDriver is implemented and supported by Mozilla, refer to their\n",
      "<a href=\"https://firefox-source-docs.mozilla.org/testing/geckodriver/Support.html\">documentation</a>\n",
      "for supported versions.</p><h3>Internet Explorer</h3><p>Only version 11 is supported, and it requires additional\n",
      "<a href=\"https://github.com/SeleniumHQ/selenium/wiki/InternetExplorerDriver#required-configuration\">configuration</a>.</p><h3>Safari</h3><p>SafariDriver is supported directly by Apple, for more information, check their\n",
      "<a href=\"https://developer.apple.com/documentation/webkit/about_webdriver_for_safari\">documentation</a></p><h3>Opera</h3><p>OperaDriver is supported by Opera Software, refer to their\n",
      "<a href=\"https://github.com/operasoftware/operachromiumdriver/releases\">documentation</a>\n",
      "for supported versions.</p><h3>Chrome</h3><p>ChromeDriver is supported by the Chromium project, please refer to their\n",
      "<a href=\"https://sites.google.com/a/chromium.org/chromedriver/\">documentation</a>\n",
      "for any compatibility information</p><h3>Edge</h3><p>Microsoft is implementing and maintaining the Microsoft Edge WebDriver, please refer to their\n",
      "<a href=\"https://developer.microsoft.com/en-us/microsoft-edge/tools/webdriver/#downloads\">documentation</a>\n",
      "for any compatibility information</p></div><div id=\"osExpand\" class=\"toggle-button\" onclick=\"expandOS()\">+ Operating Systems</div><div id=\"osCollapse\" class=\"toggle-button hide\" onclick=\"collapseOS()\">- Operating Systems</div><div id=\"osContent\" class=\"toggled-content dark-background hide\"><h3>Microsoft Windows</h3><p>Most versions of MS Windows that are currently still supported by Microsoft should work with Selenium.\n",
      "Although we use the latest MS Windows to troubleshoot things, it does not mean Selenium won't attempt to support different\n",
      "versions of Windows. This only means we don't continually run tests on other particular version of Windows.</p><h3>macOS</h3><p>We currently do not use any version of macOS in our automated tests against the selenium project. However most developers on the\n",
      "project are using a recent version of macOS and we'll continue to support the current stable release and often the previous release.</p><h3>Linux</h3><p>We test mainly on Ubuntu, but other variations of Linux should also work where the browser manufacturers support them.</p></div><div class=\"container dark-background\"><h2>Source Code</h2><p>You can also find a list of the Selenium source code at our GitHub repository <a href=\"https://github.com/SeleniumHQ/selenium\">here</a>.</p></div><link rel=\"stylesheet\" href=\"/css/main.css\"><div class=\"selenium-backers separator\"><h2>Selenium Level Sponsors</h2><div class=\"backers\"><div class=\"backer-logo\"><a href=\"https://www.perfecto.io/\"><img class=\"backer-logo\" src=\"/images/sponsors/perfecto-perforce.jpg\"></a></div><div class=\"backer-logo\"><a href=\"http://www.browserstack.com/automate/?utm_campaign=open-source-sponsor&amp;utm_source=seleniumorg&amp;utm_medium=referral\"><img class=\"backer-logo\" src=\"/images/sponsors/browserstack.png\"></a></div><div class=\"backer-logo\"><a href=\"http://saucelabs.com\"><img class=\"backer-logo\" src=\"/images/sponsors/saucelabs.png\"></a></div><div class=\"backer-logo\"><a href=\"http://bit.ly/36uZ7ad\"><img class=\"backer-logo\" src=\"/images/sponsors/experitest.png\"></a></div><div class=\"backer-logo\"><a href=\"https://newrelic.com/synthetics?utm_campaign=brn+awr+seleniumorg+FY17Q1&amp;utm_medium=REF&amp;utm_source=selenium.dev&amp;utm_content=synthetics-logo+&amp;mpc=REF-selenium.dev-EN-generic--synthetics-logo\"><img class=\"backer-logo\" src=\"/images/sponsors/synthetics.png\"></a></div><div class=\"backer-logo\"><a href=\"https://crossbrowsertesting.com/selenium-testing?utm_source=seleniumhq&amp;utm_campaign=sshp\"><img class=\"backer-logo\" src=\"/images/sponsors/CBT.png\"></a></div><div class=\"backer-logo\"><a href=\"https://applitools.com/\"><img class=\"backer-logo\" src=\"/images/sponsors/applitools.png\"></a></div><div class=\"backer-logo\"><a href=\"https://www.ranorex.com/selocity/browser-extension.html\"><img class=\"backer-logo\" src=\"/images/sponsors/selocity_banner_seleniumhq.png\"></a></div><div class=\"backer-logo\"><a href=\"https://software.microfocus.com/en-us/software/leanft\"><img class=\"backer-logo\" src=\"/images/sponsors/microfocus_logo.png\"></a></div><div class=\"backer-logo\"><a href=\"http://www.subject-7.com/\"><img class=\"backer-logo\" src=\"/images/sponsors/subject7_logo.png\"></a></div></div></div><div class=\"support-selenium-container\"><div class=\"support-selenium\"><h2>Selenium Projects</h2><p>Selenium has many projects that combine to make a versatile testing system.</p><div class=\"button-container\"><a href=\"/projects\"><div class=\"button\"><b>VIEW PROJECTS</b></div></a></div></div></div><div id=\"modalBackdrop\" class=\"modal-backdrop\"></div><link rel=\"stylesheet\" href=\"/css/footer.css\"><meta name=\"viewport\" content=\"width=device-width,initial-scale=1\"><footer><div onclick=\"toggleSitemap()\" class=\"toggle-container\">Sitemap<div id=\"sitemapArrow\" class=\"arrow-down\"></div></div><div id=\"navLinks\" class=\"nav-links\"><div class=\"footer-section\"><a href=\"/about\"><h3>About</h3></a><a href=\"/events\">Events</a>\n",
      "<a href=\"/blog\">News</a>\n",
      "<a href=\"/history\">History</a>\n",
      "<a href=\"/sponsor\">Contribute</a>\n",
      "<a href=\"/sponsors\">Sponsors</a>\n",
      "<a href=\"/getinvolved\">Get Involved</a>\n",
      "<a href=\"/ecosystem\">Ecosystem</a>\n",
      "<a href=\"https://selenium.dev/documentation/en/front_matter/copyright_and_attributions/#license\">License</a></div><div class=\"footer-section\"><a href=\"/downloads\"><h3>Downloads</h3></a><a href=\"/maven\">Maven</a>\n",
      "<a href=\"https://github.com/SeleniumHQ/selenium\">Source Code</a></div><div class=\"footer-section\"><a href=\"/projects\"><h3>Projects</h3></a><a href=\"/projects/#selenium-webdriver\">Selenium WebDriver</a>\n",
      "<a href=\"/projects/#selenium-grid\">Selenium Grid</a>\n",
      "<a href=\"/projects/#selenium-ide\">Selenium IDE</a></div><div class=\"footer-section\"><a href=\"/support\"><h3>Support</h3></a><a href=\"/blog\">Blog</a>\n",
      "<a href=\"/documentation\">Documentation</a>\n",
      "<a href=\"/project\">Governance</a></div></div><div class=\"social\">Follow us on twitter to keep up-to-date with all Selenium development and community activity!<div class=\"social-icons\"><a href=\"mailto:selenium@sfconservancy.org\"><img class=\"social-icon\" src=\"/images/mail.png\"></a>\n",
      "<a href=\"https://github.com/SeleniumHQ/selenium\"><img class=\"social-icon\" src=\"/images/github.png\"></a>\n",
      "<a href=\"https://twitter.com/SeleniumHQ\"><img class=\"social-icon\" src=\"/images/twitter.png\"></a>\n",
      "<a href=\"https://www.facebook.com/Selenium2.WebDriver\"><img class=\"social-icon\" src=\"/images/facebook.png\"></a>\n",
      "<a href=\"https://www.youtube.com/channel/UCbDlgX_613xNMrDqCe3QNEw\"><img class=\"social-icon\" src=\"/images/youtube.png\"></a>\n",
      "<a href=\"/blog/index.xml\"><img class=\"social-icon\" src=\"/images/rss.png\"></a></div></div></footer><div class=\"sfc\"><p style=\"text-align:center\">All rights reserved, Software Freedom Conservancy</p></div><script>function toggleSitemap(){const sitemapArrow=document.getElementById(\"sitemapArrow\");const navLinks=document.getElementById(\"navLinks\");if(sitemapArrow.className==='arrow-down'){sitemapArrow.className='arrow-up'}else{sitemapArrow.className='arrow-down'}\n",
      "if(navLinks.className==='nav-links'){navLinks.className='nav-links show'}else{navLinks.className='nav-links'}}</script><div id=\"releasesContainer\" class=\"releases-container\"><div class=\"close-container\"><div class=\"close\" onclick=\"hidePreviousReleases()\"><div class=\"close-x\">X</div></div></div><h2>Previous Releases,\n",
      "a complete list can be seen <a href=\"https://selenium-release.storage.googleapis.com/index.html\">here</a></h2><div class=\"releases-table\"><div class=\"releases-header\"><div class=\"name\">Name</div><div class=\"version\">Version</div><div class=\"last-modified\">Last Modified</div><div class=\"size\">Size</div><div class=\"etag\">ETag</div></div><div class=\"releases-row\"><div id=\"3.10-expand\" class=\"name toggle show\"><img class=\"expand-icon\" src=\"/images/prev_releases_plus.png\" onclick=\"openVersion(&quot;3.10&quot;)\">\n",
      "3.10</div><div id=\"3.10-collapse\" class=\"name toggle\"><img class=\"collapse-icon\" src=\"/images/prev_releases_plus.png\" onclick=\"openVersion(&quot;3.10&quot;)\">\n",
      "3.10</div><div class=\"version\"></div><div class=\"last-modified\"></div><div class=\"size\"></div><div class=\"etag\"></div><div class=\"releases-data\"></div></div><div id=\"3.10-data\" class=\"data\"><div class=\"releases-row\"><div class=\"name\"><a href=\"https://selenium-release.storage.googleapis.com/3.10/IEDriverServer_Win32_3.10.0.zip\">IEDriverServer_Win32_3.10.0.zip</a></div><div class=\"version\">3.10.0</div><div class=\"last-modified\">2018-03-03 00:10:43</div><div class=\"size\">0.96MB</div><div class=\"etag\">3e94d56f758ba151164ba4d4500f0b2b</div></div><div class=\"releases-row\"><div class=\"name\"><a href=\"https://selenium-release.storage.googleapis.com/3.10/IEDriverServer_x64_3.10.0.zip\">IEDriverServer_x64_3.10.0.zip</a></div><div class=\"version\">3.10.0</div><div class=\"last-modified\">2018-03-03 00:10:43</div><div class=\"size\">1.10MB</div><div class=\"etag\">10acdfcb31448b19c6b0a0d6c09fac35</div></div><div class=\"releases-row\"><div class=\"name\"><a href=\"https://selenium-release.storage.googleapis.com/3.10/selenium-server-standalone-3.10.0.jar\">selenium-server-standalone-3.10.0.jar</a></div><div class=\"version\">3.10.0</div><div class=\"last-modified\">2018-03-02 19:12:30</div><div class=\"size\">22.34MB</div><div class=\"etag\">d99e11f4e1f6fcfd1247a02b5619ce2f</div></div></div><div class=\"releases-row\"><div id=\"3.11-expand\" class=\"name toggle show\"><img class=\"expand-icon\" src=\"/images/prev_releases_plus.png\" onclick=\"openVersion(&quot;3.11&quot;)\">\n",
      "3.11</div><div id=\"3.11-collapse\" class=\"name toggle\"><img class=\"collapse-icon\" src=\"/images/prev_releases_plus.png\" onclick=\"openVersion(&quot;3.11&quot;)\">\n",
      "3.11</div><div class=\"version\"></div><div class=\"last-modified\"></div><div class=\"size\"></div><div class=\"etag\"></div><div class=\"releases-data\"></div></div><div id=\"3.11-data\" class=\"data\"><div class=\"releases-row\"><div class=\"name\"><a href=\"https://selenium-release.storage.googleapis.com/3.11/IEDriverServer_Win32_3.11.0.zip\">IEDriverServer_Win32_3.11.0.zip</a></div><div class=\"version\">3.11.0</div><div class=\"last-modified\">2018-03-11 20:45:11</div><div class=\"size\">0.98MB</div><div class=\"etag\">829c21381e92a6aa4ba23be409179956</div></div><div class=\"releases-row\"><div class=\"name\"><a href=\"https://selenium-release.storage.googleapis.com/3.11/IEDriverServer_Win32_3.11.1.zip\">IEDriverServer_Win32_3.11.1.zip</a></div><div class=\"version\">3.11.1</div><div class=\"last-modified\">2018-03-14 00:01:19</div><div class=\"size\">0.98MB</div><div class=\"etag\">731b556e33a8fc77974e354330fcd2ce</div></div><div class=\"releases-row\"><div class=\"name\"><a href=\"https://selenium-release.storage.googleapis.com/3.11/IEDriverServer_x64_3.11.0.zip\">IEDriverServer_x64_3.11.0.zip</a></div><div class=\"version\">3.11.0</div><div class=\"last-modified\">2018-03-11 20:45:11</div><div class=\"size\">1.09MB</div><div class=\"etag\">b565f051ef3ccf7998cca1e1a91783cb</div></div><div class=\"releases-row\"><div class=\"name\"><a href=\"https://selenium-release.storage.googleapis.com/3.11/IEDriverServer_x64_3.11.1.zip\">IEDriverServer_x64_3.11.1.zip</a></div><div class=\"version\">3.11.1</div><div class=\"last-modified\">2018-03-14 00:01:19</div><div class=\"size\">1.09MB</div><div class=\"etag\">03f0554787f019b7add7cc2446e802b8</div></div><div class=\"releases-row\"><div class=\"name\"><a href=\"https://selenium-release.storage.googleapis.com/3.11/selenium-server-standalone-3.11.0.jar\">selenium-server-standalone-3.11.0.jar</a></div><div class=\"version\">3.11.0</div><div class=\"last-modified\">2018-03-11 20:33:55</div><div class=\"size\">22.34MB</div><div class=\"etag\">ba1bb8cf5bdd66a9e87d2514045ebcbf</div></div></div><div class=\"releases-row\"><div id=\"3.12-expand\" class=\"name toggle show\"><img class=\"expand-icon\" src=\"/images/prev_releases_plus.png\" onclick=\"openVersion(&quot;3.12&quot;)\">\n",
      "3.12</div><div id=\"3.12-collapse\" class=\"name toggle\"><img class=\"collapse-icon\" src=\"/images/prev_releases_plus.png\" onclick=\"openVersion(&quot;3.12&quot;)\">\n",
      "3.12</div><div class=\"version\"></div><div class=\"last-modified\"></div><div class=\"size\"></div><div class=\"etag\"></div><div class=\"releases-data\"></div></div><div id=\"3.12-data\" class=\"data\"><div class=\"releases-row\"><div class=\"name\"><a href=\"https://selenium-release.storage.googleapis.com/3.12/IEDriverServer_Win32_3.12.0.zip\">IEDriverServer_Win32_3.12.0.zip</a></div><div class=\"version\">3.12.0</div><div class=\"last-modified\">2018-05-08 17:18:32</div><div class=\"size\">1.01MB</div><div class=\"etag\">da29d5967726b1b41e7df9d823985277</div></div><div class=\"releases-row\"><div class=\"name\"><a href=\"https://selenium-release.storage.googleapis.com/3.12/IEDriverServer_x64_3.12.0.zip\">IEDriverServer_x64_3.12.0.zip</a></div><div class=\"version\">3.12.0</div><div class=\"last-modified\">2018-05-08 17:18:33</div><div class=\"size\">1.12MB</div><div class=\"etag\">c058b42ed67b53784403035041735011</div></div><div class=\"releases-row\"><div class=\"name\"><a href=\"https://selenium-release.storage.googleapis.com/3.12/selenium-server-standalone-3.12.0.jar\">selenium-server-standalone-3.12.0.jar</a></div><div class=\"version\">3.12.0</div><div class=\"last-modified\">2018-05-08 15:15:56</div><div class=\"size\">22.47MB</div><div class=\"etag\">c1a7fb9ba2b8cd07722942a9662e3b85</div></div></div><div class=\"releases-row\"><div id=\"3.13-expand\" class=\"name toggle show\"><img class=\"expand-icon\" src=\"/images/prev_releases_plus.png\" onclick=\"openVersion(&quot;3.13&quot;)\">\n",
      "3.13</div><div id=\"3.13-collapse\" class=\"name toggle\"><img class=\"collapse-icon\" src=\"/images/prev_releases_plus.png\" onclick=\"openVersion(&quot;3.13&quot;)\">\n",
      "3.13</div><div class=\"version\"></div><div class=\"last-modified\"></div><div class=\"size\"></div><div class=\"etag\"></div><div class=\"releases-data\"></div></div><div id=\"3.13-data\" class=\"data\"><div class=\"releases-row\"><div class=\"name\"><a href=\"https://selenium-release.storage.googleapis.com/3.13/IEDriverServer_Win32_3.13.0.zip\">IEDriverServer_Win32_3.13.0.zip</a></div><div class=\"version\">3.13.0</div><div class=\"last-modified\">2018-06-25 15:48:54</div><div class=\"size\">1.02MB</div><div class=\"etag\">4224f132590524707515012f59628c19</div></div><div class=\"releases-row\"><div class=\"name\"><a href=\"https://selenium-release.storage.googleapis.com/3.13/IEDriverServer_x64_3.13.0.zip\">IEDriverServer_x64_3.13.0.zip</a></div><div class=\"version\">3.13.0</div><div class=\"last-modified\">2018-06-25 15:48:56</div><div class=\"size\">1.12MB</div><div class=\"etag\">82b715a5f611ef06b9790044151c04c8</div></div><div class=\"releases-row\"><div class=\"name\"><a href=\"https://selenium-release.storage.googleapis.com/3.13/selenium-server-standalone-3.13.0.jar\">selenium-server-standalone-3.13.0.jar</a></div><div class=\"version\">3.13.0</div><div class=\"last-modified\">2018-06-25 15:33:05</div><div class=\"size\">22.37MB</div><div class=\"etag\">ece56a69eb0b3161469cce1f5d6965a2</div></div></div><div class=\"releases-row\"><div id=\"3.14-expand\" class=\"name toggle show\"><img class=\"expand-icon\" src=\"/images/prev_releases_plus.png\" onclick=\"openVersion(&quot;3.14&quot;)\">\n",
      "3.14</div><div id=\"3.14-collapse\" class=\"name toggle\"><img class=\"collapse-icon\" src=\"/images/prev_releases_plus.png\" onclick=\"openVersion(&quot;3.14&quot;)\">\n",
      "3.14</div><div class=\"version\"></div><div class=\"last-modified\"></div><div class=\"size\"></div><div class=\"etag\"></div><div class=\"releases-data\"></div></div><div id=\"3.14-data\" class=\"data\"><div class=\"releases-row\"><div class=\"name\"><a href=\"https://selenium-release.storage.googleapis.com/3.14/IEDriverServer_Win32_3.14.0.zip\">IEDriverServer_Win32_3.14.0.zip</a></div><div class=\"version\">3.14.0</div><div class=\"last-modified\">2018-08-02 16:46:20</div><div class=\"size\">1.02MB</div><div class=\"etag\">6180c79e264be40dd371a892f9325203</div></div><div class=\"releases-row\"><div class=\"name\"><a href=\"https://selenium-release.storage.googleapis.com/3.14/IEDriverServer_x64_3.14.0.zip\">IEDriverServer_x64_3.14.0.zip</a></div><div class=\"version\">3.14.0</div><div class=\"last-modified\">2018-08-02 16:46:20</div><div class=\"size\">1.13MB</div><div class=\"etag\">ffc923b46ec81a6618678c9dd048b51f</div></div><div class=\"releases-row\"><div class=\"name\"><a href=\"https://selenium-release.storage.googleapis.com/3.14/selenium-server-standalone-3.14.0.jar\">selenium-server-standalone-3.14.0.jar</a></div><div class=\"version\">3.14.0</div><div class=\"last-modified\">2018-08-02 20:14:54</div><div class=\"size\">22.37MB</div><div class=\"etag\">376450bd517510442b60018646deadfe</div></div></div><div class=\"releases-row\"><div id=\"3.141-expand\" class=\"name toggle show\"><img class=\"expand-icon\" src=\"/images/prev_releases_plus.png\" onclick=\"openVersion(&quot;3.141&quot;)\">\n",
      "3.141</div><div id=\"3.141-collapse\" class=\"name toggle\"><img class=\"collapse-icon\" src=\"/images/prev_releases_plus.png\" onclick=\"openVersion(&quot;3.141&quot;)\">\n",
      "3.141</div><div class=\"version\"></div><div class=\"last-modified\"></div><div class=\"size\"></div><div class=\"etag\"></div><div class=\"releases-data\"></div></div><div id=\"3.141-data\" class=\"data\"><div class=\"releases-row\"><div class=\"name\"><a href=\"https://selenium-release.storage.googleapis.com/3.141/IEDriverServer_Win32_3.141.0.zip\">IEDriverServer_Win32_3.141.0.zip</a></div><div class=\"version\">3.141.0</div><div class=\"last-modified\">2018-10-31 20:54:32</div><div class=\"size\">1.04MB</div><div class=\"etag\">564eae5d205068327aaa7c65e392b9ff</div></div><div class=\"releases-row\"><div class=\"name\"><a href=\"https://selenium-release.storage.googleapis.com/3.141/IEDriverServer_Win32_3.141.5.zip\">IEDriverServer_Win32_3.141.5.zip</a></div><div class=\"version\">3.141.5</div><div class=\"last-modified\">2019-01-14 18:00:04</div><div class=\"size\">1.03MB</div><div class=\"etag\">ef3b84e595058759e317d77a7fd3e00c</div></div><div class=\"releases-row\"><div class=\"name\"><a href=\"https://selenium-release.storage.googleapis.com/3.141/IEDriverServer_Win32_3.141.59.zip\">IEDriverServer_Win32_3.141.59.zip</a></div><div class=\"version\">3.141.59</div><div class=\"last-modified\">2019-04-10 18:12:30</div><div class=\"size\">1.04MB</div><div class=\"etag\">06c36edba50adb4173849804558b370c</div></div><div class=\"releases-row\"><div class=\"name\"><a href=\"https://selenium-release.storage.googleapis.com/3.141/IEDriverServer_x64_3.141.0.zip\">IEDriverServer_x64_3.141.0.zip</a></div><div class=\"version\">3.141.0</div><div class=\"last-modified\">2018-10-31 20:54:33</div><div class=\"size\">1.14MB</div><div class=\"etag\">449d5527081f674d1cec16a2fc587e6b</div></div><div class=\"releases-row\"><div class=\"name\"><a href=\"https://selenium-release.storage.googleapis.com/3.141/IEDriverServer_x64_3.141.5.zip\">IEDriverServer_x64_3.141.5.zip</a></div><div class=\"version\">3.141.5</div><div class=\"last-modified\">2019-01-14 18:00:05</div><div class=\"size\">1.14MB</div><div class=\"etag\">a03bcc25909c8e5e9996c3a9ff8cfdf6</div></div><div class=\"releases-row\"><div class=\"name\"><a href=\"https://selenium-release.storage.googleapis.com/3.141/IEDriverServer_x64_3.141.59.zip\">IEDriverServer_x64_3.141.59.zip</a></div><div class=\"version\">3.141.59</div><div class=\"last-modified\">2019-04-10 18:12:30</div><div class=\"size\">1.17MB</div><div class=\"etag\">f0df9fa124bdf9650b32e25387529931</div></div><div class=\"releases-row\"><div class=\"name\"><a href=\"https://selenium-release.storage.googleapis.com/3.141/selenium-server-standalone-3.141.0.jar\">selenium-server-standalone-3.141.0.jar</a></div><div class=\"version\">3.141.0</div><div class=\"last-modified\">2018-10-31 20:23:25</div><div class=\"size\">10.16MB</div><div class=\"etag\">f6530e753173ef3df51f7911315acd5e</div></div><div class=\"releases-row\"><div class=\"name\"><a href=\"https://selenium-release.storage.googleapis.com/3.141/selenium-server-standalone-3.141.5.jar\">selenium-server-standalone-3.141.5.jar</a></div><div class=\"version\">3.141.5</div><div class=\"last-modified\">2018-11-06 11:59:16</div><div class=\"size\">10.15MB</div><div class=\"etag\">af67f1e9edd8b7e66f586380660d0fcf</div></div><div class=\"releases-row\"><div class=\"name\"><a href=\"https://selenium-release.storage.googleapis.com/3.141/selenium-server-standalone-3.141.59.jar\">selenium-server-standalone-3.141.59.jar</a></div><div class=\"version\">3.141.59</div><div class=\"last-modified\">2018-11-14 08:26:46</div><div class=\"size\">10.16MB</div><div class=\"etag\">947e57925b4185ae04d03ceec175a34a</div></div></div><div class=\"releases-row\"><div id=\"3.150-expand\" class=\"name toggle show\"><img class=\"expand-icon\" src=\"/images/prev_releases_plus.png\" onclick=\"openVersion(&quot;3.150&quot;)\">\n",
      "3.150</div><div id=\"3.150-collapse\" class=\"name toggle\"><img class=\"collapse-icon\" src=\"/images/prev_releases_plus.png\" onclick=\"openVersion(&quot;3.150&quot;)\">\n",
      "3.150</div><div class=\"version\"></div><div class=\"last-modified\"></div><div class=\"size\"></div><div class=\"etag\"></div><div class=\"releases-data\"></div></div><div id=\"3.150-data\" class=\"data\"><div class=\"releases-row\"><div class=\"name\"><a href=\"https://selenium-release.storage.googleapis.com/3.150/IEDriverServer_Win32_3.150.0.zip\">IEDriverServer_Win32_3.150.0.zip</a></div><div class=\"version\">3.150.0</div><div class=\"last-modified\">2019-08-22 19:32:52</div><div class=\"size\">1.05MB</div><div class=\"etag\">a8198cc5b643ee5d926f5c69bbeb2252</div></div><div class=\"releases-row\"><div class=\"name\"><a href=\"https://selenium-release.storage.googleapis.com/3.150/IEDriverServer_Win32_3.150.1.zip\">IEDriverServer_Win32_3.150.1.zip</a></div><div class=\"version\">3.150.1</div><div class=\"last-modified\">2019-10-17 21:58:43</div><div class=\"size\">1.06MB</div><div class=\"etag\">d97654ab742e4b813d3489e408e5e219</div></div><div class=\"releases-row\"><div class=\"name\"><a href=\"https://selenium-release.storage.googleapis.com/3.150/IEDriverServer_x64_3.150.0.zip\">IEDriverServer_x64_3.150.0.zip</a></div><div class=\"version\">3.150.0</div><div class=\"last-modified\">2019-08-22 19:32:56</div><div class=\"size\">1.17MB</div><div class=\"etag\">e0ebb786b17c71ad48e5139bfc3833ac</div></div><div class=\"releases-row\"><div class=\"name\"><a href=\"https://selenium-release.storage.googleapis.com/3.150/IEDriverServer_x64_3.150.1.zip\">IEDriverServer_x64_3.150.1.zip</a></div><div class=\"version\">3.150.1</div><div class=\"last-modified\">2019-10-17 21:58:44</div><div class=\"size\">1.16MB</div><div class=\"etag\">6cbeb9e71795dd8870bea1dfb3fc0b50</div></div></div><div class=\"releases-row\"><div id=\"3.7-expand\" class=\"name toggle show\"><img class=\"expand-icon\" src=\"/images/prev_releases_plus.png\" onclick=\"openVersion(&quot;3.7&quot;)\">\n",
      "3.7</div><div id=\"3.7-collapse\" class=\"name toggle\"><img class=\"collapse-icon\" src=\"/images/prev_releases_plus.png\" onclick=\"openVersion(&quot;3.7&quot;)\">\n",
      "3.7</div><div class=\"version\"></div><div class=\"last-modified\"></div><div class=\"size\"></div><div class=\"etag\"></div><div class=\"releases-data\"></div></div><div id=\"3.7-data\" class=\"data\"><div class=\"releases-row\"><div class=\"name\"><a href=\"https://selenium-release.storage.googleapis.com/3.7/IEDriverServer_Win32_3.7.0.zip\">IEDriverServer_Win32_3.7.0.zip</a></div><div class=\"version\">3.7.0</div><div class=\"last-modified\">2017-11-03 01:37:52</div><div class=\"size\">0.85MB</div><div class=\"etag\">18bd8ca48f4fe2074e121793502b2100</div></div><div class=\"releases-row\"><div class=\"name\"><a href=\"https://selenium-release.storage.googleapis.com/3.7/IEDriverServer_x64_3.7.0.zip\">IEDriverServer_x64_3.8.0.zip</a></div><div class=\"version\">3.7.0</div><div class=\"last-modified\">2017-11-03 01:37:51</div><div class=\"size\">0.98MB</div><div class=\"etag\">ab4ffe9461002f140659fcfb3d98b5f3</div></div><div class=\"releases-row\"><div class=\"name\"><a href=\"https://selenium-release.storage.googleapis.com/3.7/selenium-server-standalone-3.7.0.jar\">selenium-server-standalone-3.7.0.jar</a></div><div class=\"version\">3.7.0</div><div class=\"last-modified\">2017-11-02 22:13:58</div><div class=\"size\">21.20MB</div><div class=\"etag\">e49b400cf30ec8b54fd2bb59330f8157</div></div><div class=\"releases-row\"><div class=\"name\"><a href=\"https://selenium-release.storage.googleapis.com/3.7/selenium-server-standalone-3.7.1.jar\">selenium-server-standalone-3.7.1.jar</a></div><div class=\"version\">3.7.1</div><div class=\"last-modified\">2017-11-06 21:08:21</div><div class=\"size\">21.20MB</div><div class=\"etag\">4a7890356e4eb94044e754e8a0ca7e2a</div></div></div><div class=\"releases-row\"><div id=\"3.8-expand\" class=\"name toggle show\"><img class=\"expand-icon\" src=\"/images/prev_releases_plus.png\" onclick=\"openVersion(&quot;3.8&quot;)\">\n",
      "3.8</div><div id=\"3.8-collapse\" class=\"name toggle\"><img class=\"collapse-icon\" src=\"/images/prev_releases_plus.png\" onclick=\"openVersion(&quot;3.8&quot;)\">\n",
      "3.8</div><div class=\"version\"></div><div class=\"last-modified\"></div><div class=\"size\"></div><div class=\"etag\"></div><div class=\"releases-data\"></div></div><div id=\"3.8-data\" class=\"data\"><div class=\"releases-row\"><div class=\"name\"><a href=\"https://selenium-release.storage.googleapis.com/3.8/IEDriverServer_Win32_3.8.0.zip\">IEDriverServer_Win32_3.8.0.zip</a></div><div class=\"version\">3.8.0</div><div class=\"last-modified\">2017-12-01 18:51:10</div><div class=\"size\">0.85MB</div><div class=\"etag\">6b3697a6300e0b8806463ffde51cbb31</div></div><div class=\"releases-row\"><div class=\"name\"><a href=\"https://selenium-release.storage.googleapis.com/3.8/IEDriverServer_x64_3.8.0.zip\">IEDriverServer_x64_3.8.0.zip</a></div><div class=\"version\">3.8.0</div><div class=\"last-modified\">2017-12-01 18:51:10</div><div class=\"size\">0.98MB</div><div class=\"etag\">2a78a8be1a73de773ad801d16b7c2c5b</div></div><div class=\"releases-row\"><div class=\"name\"><a href=\"https://selenium-release.storage.googleapis.com/3.8/selenium-server-standalone-3.8.0.jar\">selenium-server-standalone-3.8.0.jar</a></div><div class=\"version\">3.8.0</div><div class=\"last-modified\">2017-11-30 11:46:03</div><div class=\"size\">21.79MB</div><div class=\"etag\">ef4afb633c4a177144798c17036e2e64</div></div><div class=\"releases-row\"><div class=\"name\"><a href=\"https://selenium-release.storage.googleapis.com/3.8/selenium-server-standalone-3.8.1.jar\">selenium-server-standalone-3.8.1.jar</a></div><div class=\"version\">3.8.1</div><div class=\"last-modified\">2017-12-01 19:17:06</div><div class=\"size\">21.79MB</div><div class=\"etag\">c2d12c231f9de454bdfc758a784ec080</div></div></div><div class=\"releases-row\"><div id=\"3.9-expand\" class=\"name toggle show\"><img class=\"expand-icon\" src=\"/images/prev_releases_plus.png\" onclick=\"openVersion(&quot;3.9&quot;)\">\n",
      "3.9</div><div id=\"3.9-collapse\" class=\"name toggle\"><img class=\"collapse-icon\" src=\"/images/prev_releases_plus.png\" onclick=\"openVersion(&quot;3.9&quot;)\">\n",
      "3.9</div><div class=\"version\"></div><div class=\"last-modified\"></div><div class=\"size\"></div><div class=\"etag\"></div><div class=\"releases-data\"></div></div><div id=\"3.9-data\" class=\"data\"><div class=\"releases-row\"><div class=\"name\"><a href=\"https://selenium-release.storage.googleapis.com/3.9/IEDriverServer_Win32_3.9.0.zip\">IEDriverServer_Win32_3.9.0.zip</a></div><div class=\"version\">3.9.0</div><div class=\"last-modified\">2018-02-05 17:44:30</div><div class=\"size\">0.94MB</div><div class=\"etag\">c7d7743b24cb897c8565839cec22ca83</div></div><div class=\"releases-row\"><div class=\"name\"><a href=\"https://selenium-release.storage.googleapis.com/3.9/IEDriverServer_x64_3.9.0.zip\">IEDriverServer_x64_3.9.0.zip</a></div><div class=\"version\">3.9.0</div><div class=\"last-modified\">2018-02-05 17:44:31</div><div class=\"size\">1.08MB</div><div class=\"etag\">5cff5e4d62b13876c0b2cd9b7bd4a2b3</div></div><div class=\"releases-row\"><div class=\"name\"><a href=\"https://selenium-release.storage.googleapis.com/3.9/selenium-server-standalone-3.9.0.jar\">selenium-server-standalone-3.9.0.jar</a></div><div class=\"version\">3.9.0</div><div class=\"last-modified\">2018-02-05 14:57:12</div><div class=\"size\">22.34MB</div><div class=\"etag\">306a475b6f1d540969416cdf11cd7361</div></div><div class=\"releases-row\"><div class=\"name\"><a href=\"https://selenium-release.storage.googleapis.com/3.9/selenium-server-standalone-3.9.1.jar\">selenium-server-standalone-3.9.1.jar</a></div><div class=\"version\">3.9.1</div><div class=\"last-modified\">2018-02-07 22:43:10</div><div class=\"size\">22.34MB</div><div class=\"etag\">eee40b2683858fd7091bf8b5481f306f</div></div></div></div></div><script>document.addEventListener('keydown',function(e){if(e.keyCode===27){hidePreviousReleases();}});function openVersion(version){const dataRow=document.getElementById(version+'-data')\n",
      "const dataExpand=document.getElementById(version+'-expand')\n",
      "const dataCollapse=document.getElementById(version+'-collapse')\n",
      "if(dataRow.className===\"data\"){dataRow.className='data show'\n",
      "dataExpand.className='name toggle'\n",
      "dataCollapse.className='name toggle show'}else{dataRow.className='data'\n",
      "dataExpand.className='name toggle show'\n",
      "dataCollapse.className='name toggle'}}\n",
      "function expandBrowsers(){const browsersExpand=document.getElementById('browsersExpand')\n",
      "const browsersCollapse=document.getElementById('browsersCollapse')\n",
      "const browsersContent=document.getElementById('browsersContent')\n",
      "browsersExpand.className='toggle-button hide';browsersCollapse.className='toggle-button';browsersContent.className='toggled-content dark-background';}\n",
      "function collapseBrowsers(){const browsersExpand=document.getElementById('browsersExpand')\n",
      "const browsersCollapse=document.getElementById('browsersCollapse')\n",
      "const browsersContent=document.getElementById('browsersContent')\n",
      "browsersExpand.className='toggle-button';browsersCollapse.className='toggle-button hide';browsersContent.className='toggled-content dark-background hide';}\n",
      "function expandOS(){const osExpand=document.getElementById('osExpand')\n",
      "const osCollapse=document.getElementById('osCollapse')\n",
      "const osContent=document.getElementById('osContent')\n",
      "osExpand.className='toggle-button hide';osCollapse.className='toggle-button';osContent.className='toggled-content dark-background';}\n",
      "function collapseOS(){const osExpand=document.getElementById('osExpand')\n",
      "const osCollapse=document.getElementById('osCollapse')\n",
      "const osContent=document.getElementById('osContent')\n",
      "osExpand.className='toggle-button';osCollapse.className='toggle-button hide';osContent.className='toggled-content dark-background hide';}\n",
      "function showPreviousReleases(){const backdrop=document.getElementById('modalBackdrop')\n",
      "const releases=document.getElementById('releasesContainer')\n",
      "backdrop.className=\"modal-backdrop show\"\n",
      "releases.className=\"releases-container show\"}\n",
      "function hidePreviousReleases(){const backdrop=document.getElementById('modalBackdrop')\n",
      "const releases=document.getElementById('releasesContainer')\n",
      "backdrop.className=\"modal-backdrop\"\n",
      "releases.className=\"releases-container\"}</script><table cellspacing=\"0\" cellpadding=\"0\" class=\"gstl_50 gssb_c\" style=\"width: 83px; display: none; top: 113px; left: 165px; position: absolute;\"><tbody><tr><td class=\"gssb_f\"></td><td class=\"gssb_e\" style=\"width: 100%;\"></td></tr></tbody></table></body></html>\n"
     ]
    }
   ],
   "source": [
    "download=driver.find_element_by_link_text(\"Downloads\")\n",
    "download.click()\n",
    "print(driver.page_source)\n"
   ]
  },
  {
   "cell_type": "code",
   "execution_count": 14,
   "metadata": {
    "scrolled": true
   },
   "outputs": [
    {
     "name": "stdout",
     "output_type": "stream",
     "text": [
      "SeleniumHQ Browser Automation\n",
      "https://www.seleniumhq.org/\n",
      "Primarily it is for automating web applications for testing purposes, but is ... If you want to create robust, browser-based regression automation suites and tests, ...\n",
      "Selenium IDE · Open source record and playback test automation for ...\n",
      "https://www.seleniumhq.org/selenium-ide/\n",
      "Enjoy easier test debugging with rich IDE features like setting breakpoints and pausing on exceptions. lightning bolt. Cross-browser Execution. Run your tests ...\n",
      "Getting Started · Selenium IDE\n",
      "https://www.seleniumhq.org/selenium-ide/docs/en/.../getting-started/\n",
      "19 Feb 2019 ... Installation · Launch the IDE · Welcome Screen · Recording your first test · Organizing your tests · Save your work · Playback.\n",
      "Code Export · Selenium IDE\n",
      "https://www.seleniumhq.org/selenium-ide/docs/en/.../code-export\n",
      "28 Oct 2019 ... You can export either a test or suite of tests to WebDriver code by right-clicking on a test or a suite, selecting Export , choosing your target ...\n",
      "Command-line Runner · Selenium IDE\n",
      "https://www.seleniumhq.org/selenium-ide/docs/en/.../command-line-runner/\n",
      "29 Jul 2019 ... If you want the tests within a suite to be executed in parallel, there is a setting you' ll need to change. See Test Parallelization In A Suite for details.\n",
      "Emitting Setup and Teardown Code · Selenium IDE\n",
      "https://www.seleniumhq.org/selenium-ide/docs/.../emitting-setup-teardown\n",
      "31 Dec 2018 ... Test Architecture. Under the hood the runner uses jest to perform the tests. Tests in general look like so // config emission describe( ...\n",
      "FAQ · Selenium IDE\n",
      "https://www.seleniumhq.org/selenium-ide/docs/en/introduction/faq/\n",
      "3 Jun 2019 ... Right click on a test step in the IDE · Select Insert new command · Type mouse over into the Command input field · Type the locator you want to ...\n",
      "Commands · Selenium IDE\n",
      "https://www.seleniumhq.org/selenium-ide/docs/en/api/commands/\n",
      "27 Dec 2018 ... The test will stop if the assert fails. arguments. locator: An element locator. assert not selected value. Confirm that the value attribute ...\n",
      "Selenium IDE Events · Selenium IDE\n",
      "https://www.seleniumhq.org/selenium-ide/docs/en/plugins/ide-events\n",
      "3 Jun 2019 ... Options. testName - the test to which commands are recorded. commandRecorded. Events that pop when a command ...\n",
      "Adding Commands · Selenium IDE\n",
      "https://www.seleniumhq.org/selenium-ide/docs/en/.../adding-commands\n",
      "21 Feb 2019 ... testId - a persistent unique identifier for a test, even though the test's content may change, the same identifier will always be sent. frameId - integer ...\n",
      "12345\n",
      "searchSearch for test on Google\n"
     ]
    }
   ],
   "source": [
    "search = driver.find_element_by_id(\"gsc-i-id1\")\n",
    "search.send_keys(\"test\")\n",
    "search.send_keys(Keys.RETURN)\n",
    "\n",
    "\n",
    "search_result = driver.find_element_by_class_name(\"gsc-wrapper\")\n",
    "print(search_result.text)"
   ]
  },
  {
   "cell_type": "markdown",
   "metadata": {},
   "source": [
    "# Explicit Wait"
   ]
  },
  {
   "cell_type": "code",
   "execution_count": 24,
   "metadata": {
    "scrolled": true
   },
   "outputs": [
    {
     "name": "stdout",
     "output_type": "stream",
     "text": [
      "SeleniumHQ Browser Automation\n",
      "https://www.seleniumhq.org/\n",
      "Primarily it is for automating web applications for testing purposes, but is ... If you want to create robust, browser-based regression automation suites and tests, ...\n",
      "Selenium IDE · Open source record and playback test automation for ...\n",
      "https://www.seleniumhq.org/selenium-ide/\n",
      "Enjoy easier test debugging with rich IDE features like setting breakpoints and pausing on exceptions. lightning bolt. Cross-browser Execution. Run your tests ...\n",
      "Getting Started · Selenium IDE\n",
      "https://www.seleniumhq.org/selenium-ide/docs/en/.../getting-started/\n",
      "19 Feb 2019 ... Installation · Launch the IDE · Welcome Screen · Recording your first test · Organizing your tests · Save your work · Playback.\n",
      "Code Export · Selenium IDE\n",
      "https://www.seleniumhq.org/selenium-ide/docs/en/.../code-export\n",
      "28 Oct 2019 ... You can export either a test or suite of tests to WebDriver code by right-clicking on a test or a suite, selecting Export , choosing your target ...\n",
      "Command-line Runner · Selenium IDE\n",
      "https://www.seleniumhq.org/selenium-ide/docs/en/.../command-line-runner/\n",
      "29 Jul 2019 ... If you want the tests within a suite to be executed in parallel, there is a setting you' ll need to change. See Test Parallelization In A Suite for details.\n",
      "Emitting Setup and Teardown Code · Selenium IDE\n",
      "https://www.seleniumhq.org/selenium-ide/docs/.../emitting-setup-teardown\n",
      "31 Dec 2018 ... Test Architecture. Under the hood the runner uses jest to perform the tests. Tests in general look like so // config emission describe( ...\n",
      "FAQ · Selenium IDE\n",
      "https://www.seleniumhq.org/selenium-ide/docs/en/introduction/faq/\n",
      "3 Jun 2019 ... Right click on a test step in the IDE · Select Insert new command · Type mouse over into the Command input field · Type the locator you want to ...\n",
      "Commands · Selenium IDE\n",
      "https://www.seleniumhq.org/selenium-ide/docs/en/api/commands/\n",
      "27 Dec 2018 ... The test will stop if the assert fails. arguments. locator: An element locator. assert not selected value. Confirm that the value attribute ...\n",
      "Selenium IDE Events · Selenium IDE\n",
      "https://www.seleniumhq.org/selenium-ide/docs/en/plugins/ide-events\n",
      "3 Jun 2019 ... Options. testName - the test to which commands are recorded. commandRecorded. Events that pop when a command ...\n",
      "Adding Commands · Selenium IDE\n",
      "https://www.seleniumhq.org/selenium-ide/docs/en/.../adding-commands\n",
      "21 Feb 2019 ... testId - a persistent unique identifier for a test, even though the test's content may change, the same identifier will always be sent. frameId - integer ...\n",
      "12345\n",
      "searchSearch for test on Google\n"
     ]
    }
   ],
   "source": [
    "search = driver.find_element_by_id(\"gsc-i-id1\")\n",
    "search.send_keys(\"test\")\n",
    "search.send_keys(Keys.RETURN)\n",
    "\n",
    "try:\n",
    "    search_result = WebDriverWait(driver, 3).until(\n",
    "        EC.presence_of_element_located((By.CLASS_NAME, \"gsc-wrapper\"))\n",
    "    )\n",
    "    print(search_result.text)\n",
    "except:\n",
    "    driver.quit()"
   ]
  },
  {
   "cell_type": "markdown",
   "metadata": {},
   "source": [
    "# Navigating Different Sections"
   ]
  },
  {
   "cell_type": "code",
   "execution_count": 34,
   "metadata": {},
   "outputs": [],
   "source": [
    "driver = webdriver.Chrome(path)\n",
    "driver.get(\"https://www.udemy.com\")"
   ]
  },
  {
   "cell_type": "code",
   "execution_count": 35,
   "metadata": {},
   "outputs": [
    {
     "name": "stdout",
     "output_type": "stream",
     "text": [
      "https://www.udemy.com/teaching/?ref=teach_footer\n"
     ]
    }
   ],
   "source": [
    "courses = driver.find_element_by_link_text(\"Teach on Udemy\")\n",
    "courses.click()\n",
    "time.sleep(5)\n",
    "print(driver.current_url)\n",
    "driver.back()\n",
    "driver.forward()"
   ]
  },
  {
   "cell_type": "code",
   "execution_count": 42,
   "metadata": {},
   "outputs": [],
   "source": [
    "driver = webdriver.Chrome(path)\n",
    "driver.get(\"https://www.selenium.dev/\")"
   ]
  },
  {
   "cell_type": "code",
   "execution_count": 43,
   "metadata": {},
   "outputs": [],
   "source": [
    "search = driver.find_element_by_id(\"gsc-i-id1\")\n",
    "search.clear()\n",
    "time.sleep(2)\n",
    "search.send_keys(\"test\")\n",
    "search.send_keys(Keys.RETURN)"
   ]
  },
  {
   "cell_type": "code",
   "execution_count": 44,
   "metadata": {},
   "outputs": [],
   "source": [
    "driver.close()"
   ]
  },
  {
   "cell_type": "markdown",
   "metadata": {},
   "source": [
    "# X_Path"
   ]
  },
  {
   "cell_type": "code",
   "execution_count": 54,
   "metadata": {},
   "outputs": [],
   "source": [
    "driver = webdriver.Chrome(path)\n",
    "driver.get(\"https://rifinder.com/\")"
   ]
  },
  {
   "cell_type": "code",
   "execution_count": 55,
   "metadata": {},
   "outputs": [],
   "source": [
    "sign_up = driver.find_element_by_xpath('//div[@data-id=\"5f3e013\"]')\n",
    "sign_up.click()"
   ]
  },
  {
   "cell_type": "markdown",
   "metadata": {},
   "source": [
    "# Is_displayed() && is_enabled() && is_selected()"
   ]
  },
  {
   "cell_type": "code",
   "execution_count": 57,
   "metadata": {},
   "outputs": [
    {
     "name": "stdout",
     "output_type": "stream",
     "text": [
      "True\n",
      "True\n",
      "False\n"
     ]
    }
   ],
   "source": [
    "user_element = driver.find_element_by_name(\"log\")\n",
    "print(user_element.is_displayed())\n",
    "print(user_element.is_enabled())\n",
    "print(user_element.is_selected())"
   ]
  },
  {
   "cell_type": "markdown",
   "metadata": {},
   "source": [
    "# Implicit Wait"
   ]
  },
  {
   "cell_type": "code",
   "execution_count": 28,
   "metadata": {},
   "outputs": [],
   "source": [
    "driver = webdriver.Chrome(path)\n",
    "driver.maximize_window()\n",
    "time.sleep(5)\n",
    "driver.get(\"https://rifinder.com/\")"
   ]
  },
  {
   "cell_type": "code",
   "execution_count": 29,
   "metadata": {},
   "outputs": [],
   "source": [
    "driver.implicitly_wait(5)\n",
    "\n",
    "register = driver.find_element_by_xpath('//div[@data-id=\"5f3e013\"]')\n",
    "register.click()\n",
    "\n",
    "courses = driver.find_element_by_link_text(\"Courses\")\n",
    "courses.click()\n",
    "\n",
    "python_course = driver.find_element_by_link_text(\"Project Base Python for Beginners and Kids\")\n",
    "python_course.click()\n",
    "\n",
    "\n"
   ]
  },
  {
   "cell_type": "code",
   "execution_count": null,
   "metadata": {},
   "outputs": [],
   "source": []
  }
 ],
 "metadata": {
  "kernelspec": {
   "display_name": "Python 3",
   "language": "python",
   "name": "python3"
  },
  "language_info": {
   "codemirror_mode": {
    "name": "ipython",
    "version": 3
   },
   "file_extension": ".py",
   "mimetype": "text/x-python",
   "name": "python",
   "nbconvert_exporter": "python",
   "pygments_lexer": "ipython3",
   "version": "3.8.6"
  }
 },
 "nbformat": 4,
 "nbformat_minor": 4
}
