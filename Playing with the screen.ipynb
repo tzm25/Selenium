{
 "cells": [
  {
   "cell_type": "markdown",
   "metadata": {},
   "source": [
    "## Maximize The Screen"
   ]
  },
  {
   "cell_type": "code",
   "execution_count": 1,
   "metadata": {},
   "outputs": [],
   "source": [
    "from selenium import webdriver\n",
    "from selenium.webdriver.common.keys import Keys\n",
    "from selenium.webdriver.common.by import By\n",
    "from selenium.webdriver.support.ui import WebDriverWait\n",
    "from selenium.webdriver.support import expected_conditions as EC\n",
    "import time\n",
    "from selenium.webdriver.support.ui import Select\n"
   ]
  },
  {
   "cell_type": "code",
   "execution_count": 3,
   "metadata": {},
   "outputs": [],
   "source": [
    "path = \"/home/void/Selenium/chromedriver\"\n",
    "driver = webdriver.Chrome(path)\n",
    "driver.maximize_window()\n",
    "driver.get(\"https://udemy.com/\")\n",
    "time.sleep(3)"
   ]
  },
  {
   "cell_type": "markdown",
   "metadata": {},
   "source": [
    "## Scroll Down the Page by Pixel"
   ]
  },
  {
   "cell_type": "code",
   "execution_count": 5,
   "metadata": {},
   "outputs": [],
   "source": [
    "path = \"/home/void/Selenium/chromedriver\"\n",
    "driver = webdriver.Chrome(path)\n",
    "driver.maximize_window()\n",
    "driver.get(\"https://udemy.com/\")\n",
    "time.sleep(3)\n",
    "\n",
    "driver.execute_script(\"window.scrollBy(0,4500)\",\"\")"
   ]
  },
  {
   "cell_type": "markdown",
   "metadata": {},
   "source": [
    "## Scroll Down to the End of the Page "
   ]
  },
  {
   "cell_type": "code",
   "execution_count": 6,
   "metadata": {},
   "outputs": [],
   "source": [
    "path = \"/home/void/Selenium/chromedriver\"\n",
    "driver = webdriver.Chrome(path)\n",
    "driver.maximize_window()\n",
    "driver.get(\"https://udemy.com/\")\n",
    "time.sleep(3)\n",
    "\n",
    "driver.execute_script(\"window.scrollBy(0,document.body.scrollHeight)\")"
   ]
  },
  {
   "cell_type": "markdown",
   "metadata": {},
   "source": [
    "## Scroll Down till an Element is found "
   ]
  },
  {
   "cell_type": "code",
   "execution_count": 12,
   "metadata": {},
   "outputs": [],
   "source": [
    "path = \"/home/void/Selenium/chromedriver\"\n",
    "driver = webdriver.Chrome(path)\n",
    "driver.maximize_window()\n",
    "driver.get(\"https://udemy.com/\")\n",
    "time.sleep(3)"
   ]
  },
  {
   "cell_type": "code",
   "execution_count": 14,
   "metadata": {},
   "outputs": [],
   "source": [
    "photography = driver.find_element_by_xpath('//*[@id=\"udemy\"]/div[2]/div[3]/div[6]/div/section/div[2]/div[7]/div/a')\n",
    "\n",
    "driver.execute_script(\"arguments[0].scrollIntoView();\",photography)"
   ]
  }
 ],
 "metadata": {
  "kernelspec": {
   "display_name": "Python 3",
   "language": "python",
   "name": "python3"
  },
  "language_info": {
   "codemirror_mode": {
    "name": "ipython",
    "version": 3
   },
   "file_extension": ".py",
   "mimetype": "text/x-python",
   "name": "python",
   "nbconvert_exporter": "python",
   "pygments_lexer": "ipython3",
   "version": "3.8.5"
  }
 },
 "nbformat": 4,
 "nbformat_minor": 4
}
