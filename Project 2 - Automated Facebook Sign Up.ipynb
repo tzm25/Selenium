{
 "cells": [
  {
   "cell_type": "code",
   "execution_count": 41,
   "metadata": {},
   "outputs": [],
   "source": [
    "from selenium import webdriver\n",
    "from selenium.webdriver.common.keys import Keys\n",
    "from selenium.webdriver.common.by import By\n",
    "from selenium.webdriver.support.ui import WebDriverWait\n",
    "from selenium.webdriver.support import expected_conditions as EC\n",
    "import time\n",
    "from selenium.webdriver.support.ui import Select\n"
   ]
  },
  {
   "cell_type": "code",
   "execution_count": 34,
   "metadata": {},
   "outputs": [],
   "source": [
    "path = \"/home/void/Selenium-Course/chromedriver\"\n",
    "driver = webdriver.Chrome(path)\n",
    "driver.maximize_window()\n",
    "driver.get(\"https://www.facebook.com/r.php\")\n",
    "time.sleep(3)"
   ]
  },
  {
   "cell_type": "markdown",
   "metadata": {},
   "source": [
    "## Fill up the form"
   ]
  },
  {
   "cell_type": "code",
   "execution_count": 35,
   "metadata": {},
   "outputs": [],
   "source": [
    "first_name = driver.find_element_by_name(\"firstname\").send_keys(\"Tzm\")\n",
    "last_name = driver.find_element_by_name(\"lastname\").send_keys(\"Tzm\")\n",
    "email_id = driver.find_element_by_name(\"reg_email__\").send_keys(\"tzmtzm441@gmail.com\")\n",
    "email_id_confirm = driver.find_element_by_name(\"reg_email_confirmation__\").send_keys(\"tzmtzm441@gmail.com\")\n",
    "pw_ = driver.find_element_by_name(\"reg_passwd__\").send_keys(\"thantzinmoe\")\n"
   ]
  },
  {
   "cell_type": "markdown",
   "metadata": {},
   "source": [
    "## Select Gender"
   ]
  },
  {
   "cell_type": "code",
   "execution_count": 36,
   "metadata": {},
   "outputs": [],
   "source": [
    "gender = driver.find_element_by_id(\"u_0_5\")\n",
    "verify_gender = gender.is_selected()\n",
    "#print(verify_gender)\n",
    "if verify_gender != True:\n",
    "    gender = driver.find_element_by_id(\"u_0_5\").click()"
   ]
  },
  {
   "cell_type": "markdown",
   "metadata": {},
   "source": [
    "## Choosing from drop down menu"
   ]
  },
  {
   "cell_type": "code",
   "execution_count": 40,
   "metadata": {},
   "outputs": [],
   "source": [
    "day = Select(driver.find_element_by_id(\"day\"))\n",
    "\n",
    "#Select by visible text\n",
    "day.select_by_visible_text(\"13\")\n",
    "\n",
    "month = Select(driver.find_element_by_id(\"month\"))\n",
    "\n",
    "#Select by index\n",
    "month.select_by_index(1)\n",
    "\n",
    "year = Select(driver.find_element_by_id(\"year\"))\n",
    "\n",
    "#Select by value\n",
    "year.select_by_value(\"1998\")\n",
    "\n"
   ]
  },
  {
   "cell_type": "code",
   "execution_count": 45,
   "metadata": {},
   "outputs": [],
   "source": [
    "path = \"/home/void/Selenium-Course/chromedriver\"\n",
    "driver = webdriver.Chrome(path)\n",
    "driver.maximize_window()\n",
    "driver.get(\"https://www.facebook.com/r.php\")\n",
    "time.sleep(3)\n",
    "\n",
    "first_name = driver.find_element_by_name(\"firstname\").send_keys(\"Tzm\")\n",
    "last_name = driver.find_element_by_name(\"lastname\").send_keys(\"Tzm\")\n",
    "email_id = driver.find_element_by_name(\"reg_email__\").send_keys(\"tzmtzm441@gmail.com\")\n",
    "email_id_confirm = driver.find_element_by_name(\"reg_email_confirmation__\").send_keys(\"tzmtzm441@gmail.com\")\n",
    "pw_ = driver.find_element_by_name(\"reg_passwd__\").send_keys(\"thantzinmoe\")\n",
    "\n",
    "\n",
    "day = Select(driver.find_element_by_id(\"day\"))\n",
    "\n",
    "#Select by visible text\n",
    "day.select_by_visible_text(\"13\")\n",
    "\n",
    "month = Select(driver.find_element_by_id(\"month\"))\n",
    "\n",
    "#Select by index\n",
    "month.select_by_index(1)\n",
    "\n",
    "year = Select(driver.find_element_by_id(\"year\"))\n",
    "\n",
    "#Select by value\n",
    "year.select_by_value(\"1998\")\n",
    "\n",
    "time.sleep(1)\n",
    "\n",
    "gender = driver.find_element_by_id(\"u_0_5\")\n",
    "verify_gender = gender.is_selected()\n",
    "#print(verify_gender)\n",
    "if verify_gender != True:\n",
    "    gender = driver.find_element_by_id(\"u_0_5\").click()\n",
    "\n",
    "time.sleep(3)\n",
    "    \n",
    "sign_up = driver.find_element_by_id(\"u_0_14\")\n",
    "sign_up.click()"
   ]
  }
 ],
 "metadata": {
  "kernelspec": {
   "display_name": "Python 3",
   "language": "python",
   "name": "python3"
  },
  "language_info": {
   "codemirror_mode": {
    "name": "ipython",
    "version": 3
   },
   "file_extension": ".py",
   "mimetype": "text/x-python",
   "name": "python",
   "nbconvert_exporter": "python",
   "pygments_lexer": "ipython3",
   "version": "3.8.6"
  }
 },
 "nbformat": 4,
 "nbformat_minor": 4
}
