{
 "cells": [
  {
   "cell_type": "code",
   "execution_count": 6,
   "metadata": {},
   "outputs": [],
   "source": [
    "from selenium import webdriver\n",
    "from selenium.webdriver.common.keys import Keys\n",
    "from selenium.webdriver.common.by import By\n",
    "from selenium.webdriver.support.ui import WebDriverWait\n",
    "from selenium.webdriver.support import expected_conditions as EC\n",
    "import time\n",
    "from selenium.webdriver.support.ui import Select\n"
   ]
  },
  {
   "cell_type": "code",
   "execution_count": 34,
   "metadata": {},
   "outputs": [],
   "source": [
    "path = \"/home/void/Selenium-Course/chromedriver\"\n",
    "driver = webdriver.Chrome(path)\n",
    "driver.maximize_window()\n",
    "driver.get(\"https://www.facebook.com/r.php\")\n",
    "time.sleep(3)"
   ]
  },
  {
   "cell_type": "markdown",
   "metadata": {},
   "source": [
    "## Fill up the form"
   ]
  },
  {
   "cell_type": "code",
   "execution_count": 35,
   "metadata": {},
   "outputs": [],
   "source": [
    "first_name = driver.find_element_by_name(\"firstname\").send_keys(\"Tzm\")\n",
    "last_name = driver.find_element_by_name(\"lastname\").send_keys(\"Tzm\")\n",
    "email_id = driver.find_element_by_name(\"reg_email__\").send_keys(\"tzmtzm441@gmail.com\")\n",
    "email_id_confirm = driver.find_element_by_name(\"reg_email_confirmation__\").send_keys(\"tzmtzm441@gmail.com\")\n",
    "pw_ = driver.find_element_by_name(\"reg_passwd__\").send_keys(\"thantzinmoe\")\n"
   ]
  },
  {
   "cell_type": "markdown",
   "metadata": {},
   "source": [
    "## Select Gender"
   ]
  },
  {
   "cell_type": "code",
   "execution_count": 36,
   "metadata": {},
   "outputs": [],
   "source": [
    "gender = driver.find_element_by_id(\"u_0_5\")\n",
    "verify_gender = gender.is_selected()\n",
    "#print(verify_gender)\n",
    "if verify_gender != True:\n",
    "    gender = driver.find_element_by_id(\"u_0_5\").click()"
   ]
  },
  {
   "cell_type": "markdown",
   "metadata": {},
   "source": [
    "## Choosing from drop down menu"
   ]
  },
  {
   "cell_type": "code",
   "execution_count": 40,
   "metadata": {},
   "outputs": [],
   "source": [
    "day = Select(driver.find_element_by_id(\"day\"))\n",
    "\n",
    "#Select by visible text\n",
    "day.select_by_visible_text(\"13\")\n",
    "\n",
    "month = Select(driver.find_element_by_id(\"month\"))\n",
    "\n",
    "#Select by index\n",
    "month.select_by_index(1)\n",
    "\n",
    "year = Select(driver.find_element_by_id(\"year\"))\n",
    "\n",
    "#Select by value\n",
    "year.select_by_value(\"1998\")\n",
    "\n"
   ]
  },
  {
   "cell_type": "code",
   "execution_count": 10,
   "metadata": {},
   "outputs": [],
   "source": [
    "path = \"/home/void/Selenium/chromedriver\"\n",
    "driver = webdriver.Chrome(path)\n",
    "driver.maximize_window()\n",
    "driver.get(\"https://www.facebook.com/r.php\")\n",
    "time.sleep(3)\n",
    "\n",
    "first_name = driver.find_element_by_name(\"firstname\").send_keys(\"Tzm\")\n",
    "last_name = driver.find_element_by_name(\"lastname\").send_keys(\"Tzm\")\n",
    "email_id = driver.find_element_by_name(\"reg_email__\").send_keys(\"tzmtzm441@gmail.com\")\n",
    "email_id_confirm = driver.find_element_by_name(\"reg_email_confirmation__\").send_keys(\"tzmtzm441@gmail.com\")\n",
    "pw_ = driver.find_element_by_name(\"reg_passwd__\").send_keys(\"thantzinmoe\")\n",
    "\n",
    "\n",
    "day = Select(driver.find_element_by_id(\"day\"))\n",
    "\n",
    "#Select by visible text\n",
    "day.select_by_visible_text(\"13\")\n",
    "\n",
    "month = Select(driver.find_element_by_id(\"month\"))\n",
    "\n",
    "#Select by index\n",
    "month.select_by_index(1)\n",
    "\n",
    "year = Select(driver.find_element_by_id(\"year\"))\n",
    "\n",
    "#Select by value\n",
    "year.select_by_value(\"1998\")\n",
    "\n",
    "time.sleep(5)\n",
    "\n",
    "gender = driver.find_element_by_id(\"u_0_5\")\n",
    "verify_gender = gender.is_selected()\n",
    "#print(verify_gender)\n",
    "if verify_gender != True:\n",
    "    gender = driver.find_element_by_id(\"u_0_5\").click()\n",
    "\n",
    "\n",
    "    \n",
    "#sign_up = driver.find_element_by_id(\"u_0_14\")\n",
    "#sign_up.click()"
   ]
  },
  {
   "cell_type": "markdown",
   "metadata": {},
   "source": [
    "## Printing all the values form drop down menu"
   ]
  },
  {
   "cell_type": "code",
   "execution_count": 11,
   "metadata": {},
   "outputs": [
    {
     "name": "stdout",
     "output_type": "stream",
     "text": [
      "12\n"
     ]
    }
   ],
   "source": [
    "month = Select(driver.find_element_by_id(\"month\"))\n",
    "print(len(month.options))"
   ]
  },
  {
   "cell_type": "code",
   "execution_count": 12,
   "metadata": {},
   "outputs": [
    {
     "name": "stdout",
     "output_type": "stream",
     "text": [
      "ဇန်နဝါရီ\n",
      "ဖေဖော်ဝါရီ\n",
      "မတ်\n",
      "ဧပြီ\n",
      "မေ\n",
      "ဇွန်\n",
      "ဇူလိုင်\n",
      "ဩဂုတ်\n",
      "စက်တင်ဘာ\n",
      "အောက်တိုဘာ\n",
      "နိုဝင်ဘာ\n",
      "ဒီဇင်ဘာ\n"
     ]
    }
   ],
   "source": [
    "for option in month.options:\n",
    "    print(option.text)"
   ]
  },
  {
   "cell_type": "markdown",
   "metadata": {},
   "source": [
    "## Links"
   ]
  },
  {
   "cell_type": "code",
   "execution_count": 17,
   "metadata": {},
   "outputs": [
    {
     "name": "stdout",
     "output_type": "stream",
     "text": [
      "111\n",
      "\n",
      "\n",
      "Home\n",
      "Courses\n",
      "Dashboard\n",
      "Donate\n",
      "\n",
      "\n",
      "Python Request Module Full Beginner Course\n",
      "\n",
      "Diptam Paul\n",
      "Python\n",
      "Get Enrolled\n",
      "\n",
      "\n",
      "Project Base Python for Beginners and Kids\n",
      "\n",
      "Diptam Paul\n",
      "Python\n",
      "Get Enrolled\n",
      "\n",
      "\n",
      "DateTime Module in Python | Pytz\n",
      "\n",
      "Diptam Paul\n",
      "Python\n",
      "Get Enrolled\n",
      "\n",
      "\n",
      "Python PIL / Pillow Module for Image Manipulation (Single or Bulk)\n",
      "\n",
      "Diptam Paul\n",
      "Python\n",
      "Get Enrolled\n",
      "\n",
      "\n",
      "Python MatplotLib Module for Data Visualization\n",
      "\n",
      "Diptam Paul\n",
      "Python\n",
      "Get Enrolled\n",
      "\n",
      "\n",
      "Learn About Python Collections Module to Simplify Codes\n",
      "\n",
      "Diptam Paul\n",
      "Python\n",
      "Get Enrolled\n",
      "\n",
      "\n",
      "Selenium Module to Automate Browsers\n",
      "\n",
      "Diptam Paul\n",
      "Python\n",
      "Add to cart\n",
      "\n",
      "\n",
      "Python Numpy Module\n",
      "\n",
      "Diptam Paul\n",
      "Python\n",
      "Get Enrolled\n",
      "\n",
      "\n",
      "Complete SQL Guide\n",
      "\n",
      "Diptam Paul\n",
      "Add to cart\n",
      "\n",
      "\n",
      "Whatsapp Automation using Python\n",
      "\n",
      "Diptam Paul\n",
      "Python\n",
      "Get Enrolled\n",
      "\n",
      "\n",
      "Python Pandas Library\n",
      "\n",
      "Diptam Paul\n",
      "Python\n",
      "Get Enrolled\n",
      "\n",
      "\n",
      "How to make Presentation Slide Website From Scratch Using HTML, CSS\n",
      "\n",
      "Diptam Paul\n",
      "Web Development\n",
      "Get Enrolled\n",
      "\n",
      "\n",
      "Git & Github Tutorial\n",
      "\n",
      "Diptam Paul\n",
      "Get Enrolled\n",
      "\n",
      "\n",
      "Python Covid And COVID19Py Library\n",
      "\n",
      "Diptam Paul\n",
      "Python\n",
      "Get Enrolled\n",
      "Home\n",
      "Privacy Policy\n",
      "Contact Me\n",
      "Instructor Registration\n",
      "\n",
      "\n",
      "\n",
      "\n",
      "\n"
     ]
    }
   ],
   "source": [
    "driver = webdriver.Chrome(path)\n",
    "driver.maximize_window()\n",
    "driver.get(\"https://courses.rifinder.com/courses/\")\n",
    "\n",
    "time.sleep(4)\n",
    "\n",
    "links = driver.find_elements_by_tag_name(\"a\")\n",
    "\n",
    "print(len(links))\n",
    "\n",
    "for link in links:\n",
    "    print(link.text)\n"
   ]
  },
  {
   "cell_type": "code",
   "execution_count": null,
   "metadata": {},
   "outputs": [],
   "source": []
  }
 ],
 "metadata": {
  "kernelspec": {
   "display_name": "Python 3",
   "language": "python",
   "name": "python3"
  },
  "language_info": {
   "codemirror_mode": {
    "name": "ipython",
    "version": 3
   },
   "file_extension": ".py",
   "mimetype": "text/x-python",
   "name": "python",
   "nbconvert_exporter": "python",
   "pygments_lexer": "ipython3",
   "version": "3.8.6"
  }
 },
 "nbformat": 4,
 "nbformat_minor": 4
}
