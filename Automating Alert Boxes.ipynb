{
 "cells": [
  {
   "cell_type": "code",
   "execution_count": 16,
   "metadata": {},
   "outputs": [],
   "source": [
    "from selenium import webdriver\n",
    "from selenium.webdriver.common.keys import Keys\n",
    "from selenium.webdriver.common.by import By\n",
    "from selenium.webdriver.support.ui import WebDriverWait\n",
    "from selenium.webdriver.support import expected_conditions as EC\n",
    "import time\n",
    "from selenium.webdriver.support.ui import Select\n"
   ]
  },
  {
   "cell_type": "markdown",
   "metadata": {},
   "source": [
    "## Alert Box"
   ]
  },
  {
   "cell_type": "code",
   "execution_count": 17,
   "metadata": {},
   "outputs": [],
   "source": [
    "path = \"/home/void/Selenium/chromedriver\"\n",
    "driver = webdriver.Chrome(path)\n",
    "driver.maximize_window()\n",
    "driver.get(\"https://www.seleniumeasy.com/test/javascript-alert-box-demo.html\")\n",
    "time.sleep(3)"
   ]
  },
  {
   "cell_type": "code",
   "execution_count": 8,
   "metadata": {},
   "outputs": [
    {
     "name": "stderr",
     "output_type": "stream",
     "text": [
      "<ipython-input-8-283eae0b3888>:4: DeprecationWarning: use driver.switch_to.alert instead\n",
      "  al = driver.switch_to_alert()\n"
     ]
    },
    {
     "name": "stdout",
     "output_type": "stream",
     "text": [
      "I am an alert box!\n"
     ]
    }
   ],
   "source": [
    "alert_box = driver.find_element_by_xpath('//button[@onclick=\"myAlertFunction()\"]')\n",
    "alert_box.click()\n",
    "time.sleep(5)\n",
    "al = driver.switch_to_alert()\n",
    "print(al.text)\n",
    "time.sleep(4)\n",
    "al.accept()\n"
   ]
  },
  {
   "cell_type": "markdown",
   "metadata": {},
   "source": [
    "## Confirmation Box"
   ]
  },
  {
   "cell_type": "code",
   "execution_count": 12,
   "metadata": {},
   "outputs": [
    {
     "name": "stderr",
     "output_type": "stream",
     "text": [
      "<ipython-input-12-56164d751100>:5: DeprecationWarning: use driver.switch_to.alert instead\n",
      "  cl = driver.switch_to_alert()\n"
     ]
    },
    {
     "name": "stdout",
     "output_type": "stream",
     "text": [
      "Press a button!\n"
     ]
    }
   ],
   "source": [
    "driver.refresh()\n",
    "conf_box= driver.find_element_by_xpath('//button[@onclick=\"myConfirmFunction()\"]')\n",
    "conf_box.click()\n",
    "time.sleep(5)\n",
    "cl = driver.switch_to_alert()\n",
    "print(cl.text)\n",
    "time.sleep(4)\n",
    "cl.dismiss()"
   ]
  },
  {
   "cell_type": "markdown",
   "metadata": {},
   "source": [
    "## Prompt Box"
   ]
  },
  {
   "cell_type": "code",
   "execution_count": 19,
   "metadata": {},
   "outputs": [
    {
     "name": "stdout",
     "output_type": "stream",
     "text": [
      "Please enter your name\n"
     ]
    }
   ],
   "source": [
    "driver.refresh()\n",
    "prompt_box= driver.find_element_by_xpath('//button[@onclick=\"myPromptFunction()\"]')\n",
    "prompt_box.click()\n",
    "time.sleep(5)\n",
    "pl = driver.switch_to.alert\n",
    "print(pl.text)\n",
    "time.sleep(4)\n",
    "pl.send_keys(\"TZM\")\n",
    "time.sleep(3)\n",
    "pl.accept()"
   ]
  },
  {
   "cell_type": "code",
   "execution_count": null,
   "metadata": {},
   "outputs": [],
   "source": []
  }
 ],
 "metadata": {
  "kernelspec": {
   "display_name": "Python 3",
   "language": "python",
   "name": "python3"
  },
  "language_info": {
   "codemirror_mode": {
    "name": "ipython",
    "version": 3
   },
   "file_extension": ".py",
   "mimetype": "text/x-python",
   "name": "python",
   "nbconvert_exporter": "python",
   "pygments_lexer": "ipython3",
   "version": "3.8.5"
  }
 },
 "nbformat": 4,
 "nbformat_minor": 4
}
